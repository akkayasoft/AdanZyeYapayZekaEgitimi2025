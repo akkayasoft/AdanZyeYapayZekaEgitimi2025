{
  "cells": [
    {
      "cell_type": "markdown",
      "metadata": {
        "id": "view-in-github",
        "colab_type": "text"
      },
      "source": [
        "<a href=\"https://colab.research.google.com/github/akkayasoft/AdanZyeYapayZekaEgitimi2025/blob/main/VeriAnalizi1.ipynb\" target=\"_parent\"><img src=\"https://colab.research.google.com/assets/colab-badge.svg\" alt=\"Open In Colab\"/></a>"
      ]
    },
    {
      "cell_type": "markdown",
      "source": [
        "# **Veri Analizi**"
      ],
      "metadata": {
        "id": "olZP5cBAw5yQ"
      }
    },
    {
      "cell_type": "markdown",
      "source": [
        "### 1.Drive a bağlanma ve Kütüphanelerin Projeye Eklenmesi"
      ],
      "metadata": {
        "id": "oI1PiSLixEHg"
      }
    },
    {
      "cell_type": "code",
      "source": [
        "from google.colab import drive\n",
        "drive.mount('/content/drive')"
      ],
      "metadata": {
        "id": "Fh8Dhq-6wEiy"
      },
      "execution_count": null,
      "outputs": []
    },
    {
      "cell_type": "code",
      "execution_count": null,
      "metadata": {
        "id": "qIFlLtmlv8n0"
      },
      "outputs": [],
      "source": [
        "# önce kütüphaneleri import edelim\n",
        "import pandas as pd\n",
        "import matplotlib.pyplot as plt\n",
        "import numpy as np\n",
        "from collections import Counter\n",
        "\n",
        "#phyton'da uyarıları kapatalım\n",
        "import warnings\n",
        "warnings.filterwarnings(\"ignore\")"
      ]
    },
    {
      "cell_type": "markdown",
      "source": [
        "### 2.Veri Setini Tanıma"
      ],
      "metadata": {
        "id": "448At1UzxLJZ"
      }
    },
    {
      "cell_type": "code",
      "execution_count": null,
      "metadata": {
        "scrolled": true,
        "id": "fCo42LGMv8n1"
      },
      "outputs": [],
      "source": [
        "# veriyi içe aktaralım\n",
        "veri = pd.read_csv(\"/content/drive/MyDrive/2025/AdanZyeYapayZekaEgitimleri2025/Datasets/olimpiyatlar_temizlenmis.csv\") # verisetini drive dan okuduk\n",
        "veri.sample(5) #rastgele 5 veri getirmesini istedik."
      ]
    },
    {
      "cell_type": "code",
      "execution_count": null,
      "metadata": {
        "scrolled": true,
        "id": "ykspp4Gjv8n1"
      },
      "outputs": [],
      "source": [
        "# veri hakkında bilgi alma\n",
        "veri.info()"
      ]
    },
    {
      "cell_type": "markdown",
      "source": [
        "### 3.Tek Değişkenli Veri Analizi"
      ],
      "metadata": {
        "id": "_HilHNEWxlb4"
      }
    },
    {
      "cell_type": "code",
      "execution_count": null,
      "metadata": {
        "id": "UMmPzZdVv8n5"
      },
      "outputs": [],
      "source": [
        "# plotHistogram adında bir fonksiyon tanımlanıyor ve bu fonksiyon 'degisken' adında bir parametre alıyor. Bu parametre, hangi sütunun histogramının çizileceğini belirtir.\n",
        "def plotHistogram(degisken):\n",
        "    # plt.figure() komutu ile yeni bir figür oluşturuluyor. Bu figür, histogram grafiğini içerecektir.\n",
        "    plt.figure()\n",
        "    # plt.hist() komutu ile histogram grafiği çiziliyor. veri[degisken] ile 'veri' adlı DataFrame'in 'degisken' sütunundaki değerler histogram için kullanılıyor.\n",
        "    # bins=85 parametresi ile histogramın 85 çubuktan oluşması sağlanıyor.\n",
        "    # color=\"red\" parametresi ile histogram çubuklarının rengi kırmızı olarak belirleniyor.\n",
        "    plt.hist(veri[degisken], bins = 85, color = \"red\")\n",
        "    # plt.xlabel() komutu ile x ekseninin etiketi 'degisken' olarak belirleniyor. Bu, eksenin hangi değişkeni temsil ettiğini gösterir.\n",
        "    plt.xlabel(degisken)\n",
        "    # plt.ylabel() komutu ile y ekseninin etiketi \"Frekans\" olarak belirleniyor. Bu, eksenin değerlerin sıklığını (frekansını) gösterdiğini ifade eder.\n",
        "    plt.ylabel(\"Frekans\")\n",
        "    # plt.title() komutu ile grafiğin başlığı belirleniyor. \"Veri Sıklığı - {}\" ifadesi, format() metodu ile 'degisken' değeri yerine konularak dinamik bir başlık oluşturuyor.\n",
        "    plt.title(\"Veri Sıklığı - {}\".format(degisken))\n",
        "    # plt.show() komutu ile oluşturulan histogram grafiği ekranda gösteriliyor.\n",
        "    plt.show()"
      ]
    },
    {
      "cell_type": "code",
      "execution_count": null,
      "metadata": {
        "scrolled": false,
        "id": "_9BA8dlQv8n5"
      },
      "outputs": [],
      "source": [
        "# sayısal değişkenler için histogram çizdirelim\n",
        "sayisal_degisken = [\"yas\", \"boy\", \"kilo\", \"yil\"]\n",
        "for i in sayisal_degisken:\n",
        "    plotHistogram(i)"
      ]
    },
    {
      "cell_type": "code",
      "execution_count": null,
      "metadata": {
        "scrolled": true,
        "id": "q7q9aFUmv8n5"
      },
      "outputs": [],
      "source": [
        "# veri içerisinde bulunan sayısal değerleri istatistiksel açıdan inceleyelim\n",
        "veri.describe()"
      ]
    },
    {
      "cell_type": "code",
      "source": [
        "veri.info()"
      ],
      "metadata": {
        "id": "5WTzjpNpz-Wy"
      },
      "execution_count": null,
      "outputs": []
    },
    {
      "cell_type": "code",
      "execution_count": null,
      "metadata": {
        "id": "61qKTRVnv8n5"
      },
      "outputs": [],
      "source": [
        "# kategorik değişkenler için kutu grafiği çizdirelim.\n",
        "# öncelikli olarak bar grafiğini elde edeceğimiz metodumuzu yazalım.\n",
        "# plotBar fonksiyonu, kategorik bir değişkenin çubuk grafiğini çizmek için kullanılır.\n",
        "# 'degisken' parametresi, çubuk grafiğini çizmek istediğimiz kategorik değişkenin adını alır.\n",
        "# 'n' parametresi ise, grafikte gösterilecek en çok tekrar eden ilk n kategoriyi belirtir. Varsayılan olarak 5'tir.\n",
        "def plotBar(degisken, n=5):\n",
        "    # veri_ değişkeni, 'veri' veri çerçevesinden (DataFrame) 'degisken' sütununu seçer.\n",
        "    veri_ = veri[degisken]\n",
        "    # veri_sayma değişkeni, veri_'deki her bir kategorinin kaç kez tekrar ettiğini (frekansını) sayar.\n",
        "    veri_sayma = veri_.value_counts()\n",
        "    # veri_sayma değişkeni, en çok tekrar eden ilk 'n' kategoriyi alır.\n",
        "    veri_sayma = veri_sayma[:n]\n",
        "    # plt.figure() fonksiyonu, yeni bir grafik figürü oluşturur.\n",
        "    plt.figure()\n",
        "    # plt.bar() fonksiyonu, çubuk grafiğini çizer.\n",
        "    # veri_sayma.index, x eksenindeki kategori adlarını belirtir.\n",
        "    # veri_sayma, y eksenindeki frekansları belirtir.\n",
        "    # color = \"orange\", çubukların rengini turuncu yapar.\n",
        "    plt.bar(veri_sayma.index, veri_sayma, color = \"orange\")\n",
        "    # plt.xticks() fonksiyonu, x eksenindeki kategori etiketlerini ayarlar.\n",
        "    # veri_sayma.index, etiketlerin yerleştirileceği noktaları belirtir.\n",
        "    # veri_sayma.index.values, etiket metinlerini belirtir.\n",
        "    plt.xticks(veri_sayma.index, veri_sayma.index.values)\n",
        "    # plt.xticks(rotation = 45), x eksenindeki etiketleri 45 derece döndürerek okunabilirliği arttırır.\n",
        "    plt.xticks(rotation = 45)\n",
        "    # plt.ylabel(\"Frekans\"), y ekseninin adını \"Frekans\" olarak ayarlar.\n",
        "    plt.ylabel(\"Frekans\")\n",
        "    # plt.title() fonksiyonu, grafik başlığını ayarlar.\n",
        "    # \"Veri Sıklığı - {}\" ifadesi, {} yerine 'degisken' adını yerleştirerek dinamik bir başlık oluşturur.\n",
        "    plt.title(\"Veri Sıklığı - {}\".format(degisken))\n",
        "    # plt.show() fonksiyonu, grafiği ekranda gösterir.\n",
        "    plt.show()\n",
        "    # print() fonksiyonu, değişkenin adını ve frekans sayımlarını (value_counts) ekrana yazdırır.\n",
        "    print(\"{}: \\n {}\".format(degisken, veri_sayma))\n"
      ]
    },
    {
      "cell_type": "code",
      "execution_count": null,
      "metadata": {
        "scrolled": false,
        "id": "YQaOfbdkv8n6"
      },
      "outputs": [],
      "source": [
        "# sayısal değişkenler için histogram çizdirelim\n",
        "kategorik_degisken = [\"isim\", \"cinsiyet\", \"takim\", \"uok\", \"sezon\", \"sehir\", \"spor\", \"etkinlik\", \"madalya\"]\n",
        "for i in kategorik_degisken:\n",
        "    plotBar(i)"
      ]
    },
    {
      "cell_type": "markdown",
      "metadata": {
        "id": "pZvIJhtBv8n6"
      },
      "source": [
        "* Olimpiyat tarihi boyunca en çok madalya kazanan isim Micheal Phelps'dir.\n",
        "* Kadın ve erkek yarışmacılar arasında yaklaşık 1:2 oranı görülmektedir.\n",
        "* Takımlar olarak en çok ABD katılmıştır.\n",
        "* Beklendiği gibi uok ve takım çıktıları aynıdır.\n",
        "* Yaz sezonunda düzenlenen olimpiyatlarda verilen madalya sayısı kış sezonunda düzenlenenden fazladır.\n",
        "* Olimpiyatlarda en çok madalya Londra'da verilmiştir.\n",
        "* Olimpiyatlarda en çok atletizm branşında yarışılmıştır.\n",
        "* Erkekler futbol müsabakaları en çok yapılan etkinliktir.\n",
        "* Verilen madalyaların aynı çıkmasını beklerken, farklılık olduğu görülmektedir."
      ]
    },
    {
      "cell_type": "markdown",
      "metadata": {
        "id": "f2cVp-sEv8n8"
      },
      "source": [
        "### 4.İki Değişkenli Veri Analizi\n"
      ]
    },
    {
      "cell_type": "markdown",
      "source": [
        "* İki değişkenli veri analizi yaparken kazanılan madalyalar ve diğer sütunlar arasında bulunan ilişkileri inceleyeceğiz.\n",
        "    1. Cinsiyete göre boy ve kilo karşılaştırması\n",
        "    1. Sayısal sütunlar arasında ilişki incelemesi\n",
        "    1. Madalya ve yaş arasındaki ilişkinin incelenmesi\n",
        "    1. Takımların kazandıkları altın, gümüş ve bronz madalya sayıları\n",
        "    1. Kazanılan madalyaların hangi şehirlerde kazanıldığı\n",
        "    1. Cinsiyete göre kazanılan altın, gümüş ve bronz madalya sayıları\n",
        "* Görselleştirme bölümünde farklı görselleştirme teknikleri kullanılarak veri analizine devam edilecektir.    "
      ],
      "metadata": {
        "id": "mkMbP1cpCBJe"
      }
    },
    {
      "cell_type": "markdown",
      "metadata": {
        "id": "7PlZ8yV7v8n8"
      },
      "source": [
        "Cinsiyete Göre Boy ve Kilo Karşılaştırması"
      ]
    },
    {
      "cell_type": "code",
      "execution_count": null,
      "metadata": {
        "id": "HzmwwL_tv8n8"
      },
      "outputs": [],
      "source": [
        "# veri setinde cinsiyeti erkek (M) olanları filtrele\n",
        "erkek = veri[veri.cinsiyet == \"M\"]\n",
        "erkek.head(1)"
      ]
    },
    {
      "cell_type": "code",
      "execution_count": null,
      "metadata": {
        "id": "cg-kitOCv8n9"
      },
      "outputs": [],
      "source": [
        "# veri setinde cinsiyeti kadın (F) olanları filtrele\n",
        "kadin = veri[veri.cinsiyet == \"F\"]\n",
        "kadin.head(1)"
      ]
    },
    {
      "cell_type": "code",
      "execution_count": null,
      "metadata": {
        "scrolled": true,
        "id": "hREAkCRSv8n9"
      },
      "outputs": [],
      "source": [
        "# kadın ve erkek'ler arasında boy ilişkisine bakalım\n",
        "plt.figure()\n",
        "plt.scatter(kadin.boy, kadin.kilo, alpha = 0.4, label = \"Kadin\")\n",
        "plt.scatter(erkek.boy, erkek.kilo, alpha = 0.4, label = \"Erkek\")\n",
        "plt.xlabel(\"Boy\")\n",
        "plt.ylabel(\"Kilo\")\n",
        "plt.title(\"Boy ve Kilo Arasındaki İlişki\")\n",
        "plt.legend()\n",
        "plt.show()"
      ]
    },
    {
      "cell_type": "markdown",
      "metadata": {
        "id": "oBs_V0wPv8n9"
      },
      "source": [
        "* Boy ve kilo arasında pozitif ilişki olduğunu anlıyoruz."
      ]
    },
    {
      "cell_type": "markdown",
      "metadata": {
        "id": "_7GwglCrv8n9"
      },
      "source": [
        "Sayısal Sütunlar Arasında İlişki İncelemesi"
      ]
    },
    {
      "cell_type": "code",
      "execution_count": null,
      "metadata": {
        "id": "96Ci1nm5v8n9"
      },
      "outputs": [],
      "source": [
        "# veri: Pandas DataFrame'imizdir. İçinde çeşitli sütunlar olabilir.\n",
        "# .loc[:, [\"yas\", \"boy\", \"kilo\"]]: DataFrame'deki sadece \"yas\", \"boy\" ve \"kilo\" sütunlarını seçer.\n",
        "# .corr(): Seçilen sütunlar arasındaki korelasyon matrisini hesaplar.\n",
        "#  1'e yakınsa: Güçlü pozitif ilişki (biri artarken diğeri de artar).\n",
        "# -1'e yakınsa: Güçlü negatif ilişki (biri artarken diğeri azalır).\n",
        "#  0'a yakınsa: İlişki yok veya çok zayıf.\n",
        "\n",
        "veri.loc[:, [\"yas\", \"boy\", \"kilo\"]].corr()\n"
      ]
    },
    {
      "cell_type": "markdown",
      "metadata": {
        "id": "9ueblRdDv8n9"
      },
      "source": [
        "* Bir önceki grafikte gördüğümüz boy ve kilo arasında pozitif ilişki durumunu, korelasyon tablosunda da görebiliyoruz."
      ]
    },
    {
      "cell_type": "markdown",
      "metadata": {
        "id": "YbnlZqvpv8n9"
      },
      "source": [
        "Madalya ve Yaş Arasındaki İlişki"
      ]
    },
    {
      "cell_type": "code",
      "execution_count": null,
      "metadata": {
        "id": "pSM-WM_Nv8n9"
      },
      "outputs": [],
      "source": [
        "# altin, gümüş ve bronz olacak şekilde 3 farklı gruba ayıralım.\n",
        "# veri_gecici: Pandas DataFrame'imizdir.\n",
        "# pd.get_dummies(): Kategorik değişkenleri one-hot encoding ile sayısal hale getirir.\n",
        "# columns=['madalya']: \"madalya\" sütunundaki kategorik veriyi dönüştürür.\n",
        "veri_gecici = veri.copy()\n",
        "veri_gecici = pd.get_dummies(veri_gecici, columns=['madalya'])\n",
        "veri_gecici.head(2)"
      ]
    },
    {
      "cell_type": "markdown",
      "source": [
        "pd.get_dummies() fonksiyonu, kategorik değişkenleri one-hot encoding yöntemiyle sayısal sütunlara çevirir.\n",
        "\n",
        "\"madalya\" sütunu, örneğin \"altın\", \"gümüş\" ve \"bronz\" gibi kategorik değerler içeriyorsa, bunları ayrı sütunlara böler.\n",
        "\n",
        "Sonuç olarak \"madalya_altın\", \"madalya_gümüş\" ve \"madalya_bronz\" adında yeni sütunlar oluşur.\n",
        "\n",
        "Eğer bir sporcu altın madalya kazandıysa, \"madalya_altın\" sütununda 1, diğerlerinde 0 olur."
      ],
      "metadata": {
        "id": "gA-BnZBvA0_l"
      }
    },
    {
      "cell_type": "code",
      "execution_count": null,
      "metadata": {
        "id": "VfrmivyRv8n9"
      },
      "outputs": [],
      "source": [
        "\n",
        "# veri_gecici: Pandas DataFrame'imizdir.\n",
        "# .loc[:, [\"yas\", \"madalya_Bronze\", \"madalya_Gold\", \"madalya_Silver\"]]:\n",
        "# DataFrame içinden sadece belirtilen sütunları seçer.\n",
        "# .corr(): Seçilen sütunlar arasındaki korelasyon matrisini hesaplar.\n",
        "\n",
        "veri_gecici.loc[:, [\"yas\", \"madalya_Bronze\", \"madalya_Gold\", \"madalya_Silver\"]].corr()\n"
      ]
    },
    {
      "cell_type": "markdown",
      "metadata": {
        "id": "AVrW0lO3v8n-"
      },
      "source": [
        "Takımların Kazandıkları Altın, Gümüş ve Bronz Madalya Sayıları"
      ]
    },
    {
      "cell_type": "code",
      "execution_count": null,
      "metadata": {
        "scrolled": true,
        "id": "BSyFXoi5v8n-"
      },
      "outputs": [],
      "source": [
        "# veri_gecici: Pandas DataFrame'imizdir.\n",
        "# [[\"takim\", \"madalya_Gold\", \"madalya_Silver\", \"madalya_Bronze\"]]:\n",
        "# \"takim\" ve madalya sütunlarını seçer.\n",
        "# .groupby([\"takim\"], as_index=False):\n",
        "# \"takim\" sütununa göre gruplama yapar, as_index=False ile indeks olarak kullanmaz.\n",
        "# .sum(): Her takım için toplam madalya sayısını hesaplar.\n",
        "# .sort_values(by=\"madalya_Gold\", ascending=False):\n",
        "# Veriyi \"madalya_Gold\" sütununa göre büyükten küçüğe sıralar.\n",
        "# [:10]: En fazla altın madalya kazanan ilk 10 takımı seçer.\n",
        "\n",
        "veri_gecici[[\"takim\", \"madalya_Gold\", \"madalya_Silver\", \"madalya_Bronze\"]].groupby([\"takim\"], as_index=False).sum().sort_values(by=\"madalya_Gold\", ascending=False)[:10]\n",
        "# Bu kod, her takımın kazandığı madalya sayılarını hesaplayıp en çok altın madalya kazanan ilk 10 takımı sıralar."
      ]
    },
    {
      "cell_type": "markdown",
      "metadata": {
        "id": "76YltjUZv8n-"
      },
      "source": [
        "\n",
        "### 5.Çok Değişkenli Veri Analizi"
      ]
    },
    {
      "cell_type": "markdown",
      "metadata": {
        "id": "MJuk-gjpv8n-"
      },
      "source": [
        "Pivot Tablosu\n",
        "* Pivot tablo, veritabanı, iş zekası programı ya da veri tablosu gibi, daha geniş bir tabloyu özetleyen istatistik tablosudur. Bu özet, pivot tabloyu anlamlı bir şekilde gruplayan toplamları, ortalamaları veya diğer istatistikleri içerebilir."
      ]
    },
    {
      "cell_type": "code",
      "execution_count": null,
      "metadata": {
        "id": "g0atNzj8v8n-"
      },
      "outputs": [],
      "source": [
        "# buraya kod yazacağız\n",
        "veri_pivot = veri.pivot_table(index=\"madalya\", columns =\"cinsiyet\",\n",
        "                  values=[\"boy\",\"kilo\",\"yas\"],\n",
        "                 aggfunc={\"boy\":np.mean, \"kilo\":np.mean, \"yas\":[min, max, np.std]})\n",
        "veri_pivot.head()"
      ]
    },
    {
      "cell_type": "markdown",
      "metadata": {
        "id": "50xp_KkCv8n_"
      },
      "source": [
        "* Bu tabloda farklı madalyalar ve cinsiyetler için boy ve kilo parametrelerinin ortalama yaş parametresinin ise maksimum, minimum ve standart sapmasını görebiliyoruz."
      ]
    },
    {
      "cell_type": "markdown",
      "metadata": {
        "id": "N4KFhcbqv8oA"
      },
      "source": [
        "* Basketbol oynayan erkek oyuncuların boylarının uzun ve kilolarının fazla olmasından kaynaklı anomali tespit edilmiştir."
      ]
    },
    {
      "cell_type": "markdown",
      "metadata": {
        "id": "-F1o3mRcv8oA"
      },
      "source": [
        "<a id='7'></a>\n",
        "## Zaman Serilerinde Veri Analizi\n",
        "* Yıllara Göre Ortalama Yaş, Boy ve Kilo Değişimi\n",
        "* Yıllara Göre Madalya Sayıları"
      ]
    },
    {
      "cell_type": "code",
      "execution_count": null,
      "metadata": {
        "scrolled": false,
        "id": "IU_Dz1Lhv8oA"
      },
      "outputs": [],
      "source": [
        "# buraya kod yazacağız\n",
        "veri_zaman = veri.copy() # verinin orijinali bozulmasın diye kopyalayalım\n",
        "veri_zaman.head(3)"
      ]
    },
    {
      "cell_type": "code",
      "execution_count": null,
      "metadata": {
        "scrolled": false,
        "id": "RDsAeZq0v8oA"
      },
      "outputs": [],
      "source": [
        "# buraya kod yazacağız\n",
        "# olimpiyatların gerçekleştiği eşsiz yılları bulalım\n",
        "essiz_yillar = veri_zaman.yil.unique()\n",
        "essiz_yillar"
      ]
    },
    {
      "cell_type": "code",
      "execution_count": null,
      "metadata": {
        "scrolled": false,
        "id": "B6RFa73ov8oA"
      },
      "outputs": [],
      "source": [
        "# buraya kod yazacağız\n",
        "# yılları küçükten büyüğe sıralayalım\n",
        "dizili_array = np.sort(veri_zaman.yil.unique())\n",
        "dizili_array"
      ]
    },
    {
      "cell_type": "code",
      "execution_count": null,
      "metadata": {
        "scrolled": true,
        "id": "JH3FQ4sov8oA"
      },
      "outputs": [],
      "source": [
        "# buraya kod yazacağız\n",
        "plt.figure()\n",
        "plt.scatter(range(len(dizili_array)),dizili_array)\n",
        "plt.grid(True)\n",
        "plt.ylabel(\"Yıllar\")\n",
        "plt.title(\"Olimpiyatlar Çift Yıllarda Düzenlenir\")\n",
        "plt.show()"
      ]
    },
    {
      "cell_type": "code",
      "execution_count": null,
      "metadata": {
        "scrolled": true,
        "id": "PTaLG_kwv8oA"
      },
      "outputs": [],
      "source": [
        "# buraya kod yazacağız\n",
        "# veri içerisinde bulunan yılları datetime veri tipine dönüştürelim\n",
        "tarih_saat_nesnesi = pd.to_datetime(veri_zaman['yil'], format='%Y')\n",
        "print(type(tarih_saat_nesnesi))\n",
        "tarih_saat_nesnesi.head(3)"
      ]
    },
    {
      "cell_type": "code",
      "execution_count": null,
      "metadata": {
        "scrolled": false,
        "id": "WIcrzeLxv8oA"
      },
      "outputs": [],
      "source": [
        "# buraya kod yazacağız\n",
        "# veriye tarih saat diye yeni bir sütun açıp, bir önceki satırda elde ettiğimiz datetime veri tipini ekleyelim.\n",
        "veri_zaman[\"tarih_saat\"] = tarih_saat_nesnesi\n",
        "veri_zaman.head(3)"
      ]
    },
    {
      "cell_type": "code",
      "execution_count": null,
      "metadata": {
        "id": "k7W3BwHov8oB"
      },
      "outputs": [],
      "source": [
        "# buraya kod yazacağız\n",
        "# tarih_saat sütununda bulunan datetime veri tipine ait veriyi, asıl verinin indeksi yapalım\n",
        "# pandas kütüphanesinde indeksi datetime veri tipi olan veri setleri ile çalışmak için özel yapılar bulunmaktadır.\n",
        "# bu nedenle amacımız olan indeksi datetime veri tipi yapma çalışmamız gerçekleşmiş oluyor.\n",
        "veri_zaman = veri_zaman.set_index(\"tarih_saat\")\n",
        "veri_zaman.drop([\"yil\"], axis = 1, inplace= True)\n",
        "veri_zaman.head(3)"
      ]
    },
    {
      "cell_type": "markdown",
      "metadata": {
        "id": "dgUw9uVFv8oB"
      },
      "source": [
        "### Yıllara Göre Ortalama Yaş, Boy ve Kilo Değişimi"
      ]
    },
    {
      "cell_type": "code",
      "execution_count": null,
      "metadata": {
        "scrolled": true,
        "id": "8Y_rq1X_v8oB"
      },
      "outputs": [],
      "source": [
        "# buraya kod yazacağız\n",
        "periyodik_veri = veri_zaman.resample(\"2A\").mean() # 2 yıllık periyotlar halinde ortalama değerleri al\n",
        "periyodik_veri.head()"
      ]
    },
    {
      "cell_type": "code",
      "execution_count": null,
      "metadata": {
        "scrolled": false,
        "id": "FT2t6iIKv8oB"
      },
      "outputs": [],
      "source": [
        "# buraya kod yazacağız\n",
        "# kayıp verileri çıkart\n",
        "periyodik_veri.dropna(axis=0, inplace = True)\n",
        "periyodik_veri.head()"
      ]
    },
    {
      "cell_type": "code",
      "execution_count": null,
      "metadata": {
        "id": "zzwFgANtv8oB"
      },
      "outputs": [],
      "source": [
        "# buraya kod yazacağız\n",
        "plt.figure()\n",
        "periyodik_veri.plot()\n",
        "plt.title(\"Yıllara göre ortalama yaş, boy ve kilo değişimi\")\n",
        "plt.xlabel(\"yıl\")\n",
        "plt.grid(True)\n",
        "plt.show()"
      ]
    },
    {
      "cell_type": "markdown",
      "metadata": {
        "id": "ysDfDx32v8oB"
      },
      "source": [
        "### Yıllara Göre Madalya Sayıları"
      ]
    },
    {
      "cell_type": "code",
      "execution_count": null,
      "metadata": {
        "id": "5_tIBDcJv8oB"
      },
      "outputs": [],
      "source": [
        "# buraya kod yazacağız\n",
        "veri_zaman = pd.get_dummies(veri_zaman, columns = ['madalya'])\n",
        "veri_zaman.head(3)"
      ]
    },
    {
      "cell_type": "code",
      "execution_count": null,
      "metadata": {
        "scrolled": true,
        "id": "XPxShFTYv8oB"
      },
      "outputs": [],
      "source": [
        "# buraya kod yazacağız\n",
        "periyodik_veri = veri_zaman.resample(\"2A\").sum() # 2 yıllık periyotlar halinde ortalama değerleri al\n",
        "periyodik_veri.head()\n",
        "# kayıp verileri çıkart\n",
        "periyodik_veri = periyodik_veri[~(periyodik_veri == 0).any(axis=1)]\n",
        "periyodik_veri.tail()"
      ]
    },
    {
      "cell_type": "code",
      "execution_count": null,
      "metadata": {
        "id": "GKtgDHvAv8oC"
      },
      "outputs": [],
      "source": [
        "# buraya kod yazacağız\n",
        "plt.figure()\n",
        "periyodik_veri.loc[:,[\"madalya_Bronze\", \"madalya_Gold\", \"madalya_Silver\"]].plot()\n",
        "plt.title(\"Yıllara göre madalya sayıları\")\n",
        "plt.ylabel(\"sayı\")\n",
        "plt.xlabel(\"yıl\")\n",
        "plt.grid(True)\n",
        "plt.show()"
      ]
    },
    {
      "cell_type": "markdown",
      "metadata": {
        "id": "HyfkQEELv8oC"
      },
      "source": [
        "* Yukarıdaki şekilde görüldüğü gibi 2000'li yıllardan sonra madalya sayılarındaki dalgalanmalar fazla oluyor. Bunun nedeni yaz ve kış olimpiyatlarında yapılan etkinlik sayısının ve buna karşılık gelen madalya sayısının farklılık göstermesidir."
      ]
    },
    {
      "cell_type": "markdown",
      "metadata": {
        "id": "PJGNp-H3v8oC"
      },
      "source": [
        "### Yıllara ve Sezonlara Göre Madalya Sayıları"
      ]
    },
    {
      "cell_type": "code",
      "execution_count": null,
      "metadata": {
        "id": "vy0pTrfzv8oC"
      },
      "outputs": [],
      "source": [
        "# buraya kod yazacağız\n",
        "# veriyi yaz ve kış olmak üzere ikiye ayıralım\n",
        "yaz = veri_zaman[veri_zaman.sezon == \"Summer\"]\n",
        "kis = veri_zaman[veri_zaman.sezon == \"Winter\"]\n",
        "kis.head(3)"
      ]
    },
    {
      "cell_type": "code",
      "execution_count": null,
      "metadata": {
        "scrolled": true,
        "id": "AkkkOWvmv8oC"
      },
      "outputs": [],
      "source": [
        "# buraya kod yazacağız\n",
        "# kış için\n",
        "periyodik_veri_kis = kis.resample(\"A\").sum()\n",
        "# kayıp verileri çıkart\n",
        "periyodik_veri_kis = periyodik_veri_kis[~(periyodik_veri_kis == 0).any(axis=1)]\n",
        "periyodik_veri_kis.head()"
      ]
    },
    {
      "cell_type": "code",
      "execution_count": null,
      "metadata": {
        "scrolled": true,
        "id": "z0zLz5Bev8oC"
      },
      "outputs": [],
      "source": [
        "# buraya kod yazacağız\n",
        "# yaz için\n",
        "periyodik_veri_yaz = yaz.resample(\"A\").sum() # 2 yıllık periyotlar halinde ortalama değerleri al\n",
        "\n",
        "# kayıp verileri çıkart\n",
        "periyodik_veri_yaz = periyodik_veri_yaz[~(periyodik_veri_yaz == 0).any(axis=1)]\n",
        "periyodik_veri_yaz.head()"
      ]
    },
    {
      "cell_type": "code",
      "execution_count": null,
      "metadata": {
        "scrolled": true,
        "id": "8hdv3EuHv8oC"
      },
      "outputs": [],
      "source": [
        "# buraya kod yazacağız\n",
        "plt.figure()\n",
        "periyodik_veri_yaz.loc[:,[\"madalya_Bronze\", \"madalya_Gold\", \"madalya_Silver\"]].plot()\n",
        "plt.title(\"Yıllara ve yaz sezonuna göre madalya sayıları\")\n",
        "plt.ylabel(\"sayı\")\n",
        "plt.xlabel(\"yıl\")\n",
        "plt.grid(True)\n",
        "plt.show()\n",
        "\n",
        "plt.figure()\n",
        "periyodik_veri_kis.loc[:,[\"madalya_Bronze\", \"madalya_Gold\", \"madalya_Silver\"]].plot()\n",
        "plt.title(\"Yıllara ve kış sezonuna göre madalya sayıları\")\n",
        "plt.ylabel(\"sayı\")\n",
        "plt.xlabel(\"yıl\")\n",
        "plt.grid(True)\n",
        "plt.show()\n"
      ]
    },
    {
      "cell_type": "markdown",
      "metadata": {
        "id": "Ep0PUL2hv8oC"
      },
      "source": [
        "# Sonuç\n",
        "![image.png](attachment:f3042445-643a-43f0-a394-9966e8269753.png)"
      ]
    }
  ],
  "metadata": {
    "kernelspec": {
      "display_name": "Python 3",
      "language": "python",
      "name": "python3"
    },
    "language_info": {
      "codemirror_mode": {
        "name": "ipython",
        "version": 3
      },
      "file_extension": ".py",
      "mimetype": "text/x-python",
      "name": "python",
      "nbconvert_exporter": "python",
      "pygments_lexer": "ipython3",
      "version": "3.7.6"
    },
    "colab": {
      "provenance": [],
      "collapsed_sections": [
        "oI1PiSLixEHg"
      ],
      "include_colab_link": true
    }
  },
  "nbformat": 4,
  "nbformat_minor": 0
}