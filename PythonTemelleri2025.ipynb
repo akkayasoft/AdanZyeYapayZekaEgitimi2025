{
  "nbformat": 4,
  "nbformat_minor": 0,
  "metadata": {
    "colab": {
      "provenance": [],
      "authorship_tag": "ABX9TyPPjwXv9WKXBReYTlBSRJZg",
      "include_colab_link": true
    },
    "kernelspec": {
      "name": "python3",
      "display_name": "Python 3"
    },
    "language_info": {
      "name": "python"
    }
  },
  "cells": [
    {
      "cell_type": "markdown",
      "metadata": {
        "id": "view-in-github",
        "colab_type": "text"
      },
      "source": [
        "<a href=\"https://colab.research.google.com/github/akkayasoft/AdanZyeYapayZekaEgitimi2025/blob/main/PythonTemelleri2025.ipynb\" target=\"_parent\"><img src=\"https://colab.research.google.com/assets/colab-badge.svg\" alt=\"Open In Colab\"/></a>"
      ]
    },
    {
      "cell_type": "markdown",
      "source": [
        "# **Ders 1 : Giriş,Kurulum,Değişkenler,Veri tipleri,Operatörler**\n"
      ],
      "metadata": {
        "id": "_XEvIhdSO-FC"
      }
    },
    {
      "cell_type": "markdown",
      "source": [
        "**Python Nedir?**\n",
        "\n",
        "Python, 1991 yılında Guido van Rossum tarafından geliştirilen yüksek seviyeli, yorumlanabilen bir programlama dilidir.\n",
        "Okunabilir, basit ve öğrenmesi kolay syntax yapısına sahiptir.\n",
        "Çapraz platform özelliği ile farklı işletim sistemlerinde çalışabilir.\n",
        "Otomatik bellek yönetimi ve geniş standart kütüphanesi vardır."
      ],
      "metadata": {
        "id": "DUpioKN4Oxd6"
      }
    },
    {
      "cell_type": "markdown",
      "source": [
        "**Python'un Avantajları**\n",
        "\n",
        "**Çok Yönlü Kullanım:** Web geliştirme, veri bilimi, yapay zeka, oyun geliştirme ve daha pek çok alanda kullanılır.\n",
        "\n",
        "**Geniş Kütüphane Desteği:** Matematiksel işlemler, veri analizi, grafik tasarımı gibi birçok alanda kütüphaneler mevcut.\n",
        "\n",
        "**Kolay Öğrenim:** Python, yeni başlayanlar için idealdir ve güçlü bir topluluk desteğine sahiptir."
      ],
      "metadata": {
        "id": "60y0fwBxPhxi"
      }
    },
    {
      "cell_type": "markdown",
      "source": [
        "**Python Kurulumu**\n",
        "\n",
        "\n",
        "Resmi web sitesi python.org üzerinden Python'un en son sürümünü indirip kurabilirsiniz.\n",
        "\n",
        "Kurulum sırasında “Add Python to PATH” seçeneğini işaretlemeyi unutmayın.\n",
        "\n",
        "Kurulum sonrası komut istemcisine (Command Prompt) python yazarak Python'un başarılı bir şekilde kurulup kurulmadığını kontrol edebilirsiniz."
      ],
      "metadata": {
        "id": "RRK_bK1FP6DX"
      }
    },
    {
      "cell_type": "code",
      "source": [
        "#İlk Python Programı: Merhaba Dünya\n",
        "print(\"Merhaba Dünya\")"
      ],
      "metadata": {
        "colab": {
          "base_uri": "https://localhost:8080/"
        },
        "id": "AruG29BgQEyB",
        "outputId": "ab0ff35e-6aff-4902-bcbf-26925cf041b3"
      },
      "execution_count": null,
      "outputs": [
        {
          "output_type": "stream",
          "name": "stdout",
          "text": [
            "Merhaba Dünya\n"
          ]
        }
      ]
    },
    {
      "cell_type": "markdown",
      "source": [
        "**1.1. print() fonksiyonu**\n",
        "\n",
        "ekrana yazdırmak için kullanılır.\n",
        "\n",
        "\"#\" ile başlayan satırlar yorum satırıdır ve Python tarafından görmezden gelinir."
      ],
      "metadata": {
        "id": "ivRKbmHpQRs8"
      }
    },
    {
      "cell_type": "code",
      "source": [
        "mesaj=\"python dersleri\"\n",
        "print(mesaj)"
      ],
      "metadata": {
        "colab": {
          "base_uri": "https://localhost:8080/"
        },
        "id": "laQ77MBnQS7b",
        "outputId": "b0ac8311-9da2-4fc0-c0b8-be27a873db94"
      },
      "execution_count": null,
      "outputs": [
        {
          "output_type": "stream",
          "name": "stdout",
          "text": [
            "python dersleri\n"
          ]
        }
      ]
    },
    {
      "cell_type": "code",
      "source": [
        "#Virgül, farklı öğeleri birleştirir ve aralarına varsayılan olarak boşluk ekler.\n",
        "ad=\"ahmet\"\n",
        "yas=25\n",
        "print(ad, yas,\"yaşındadır\")"
      ],
      "metadata": {
        "colab": {
          "base_uri": "https://localhost:8080/"
        },
        "id": "qaacROfGVgwj",
        "outputId": "58635e1f-6c40-43be-e087-2ab03c050e39"
      },
      "execution_count": null,
      "outputs": [
        {
          "output_type": "stream",
          "name": "stdout",
          "text": [
            "ahmet 25 yaşındadır\n"
          ]
        }
      ]
    },
    {
      "cell_type": "code",
      "source": [
        "#format() metodu, süslü parantezlerin ({}) içine değişkenleri yerleştirir.\n",
        "ad=\"ayhan\"\n",
        "yas=39\n",
        "print(\"{} adlı kullanıcı {} yaşındadır\".format(ad,yas))"
      ],
      "metadata": {
        "colab": {
          "base_uri": "https://localhost:8080/"
        },
        "id": "1sqgfblFWp8B",
        "outputId": "7211b7b8-7f75-4e0d-fd25-97d016a2cd58"
      },
      "execution_count": null,
      "outputs": [
        {
          "output_type": "stream",
          "name": "stdout",
          "text": [
            "ayhan adlı kullanıcı 39 yaşındadır\n"
          ]
        }
      ]
    },
    {
      "cell_type": "code",
      "source": [
        "#f-string yöntemi, süslü parantezler içine doğrudan değişkenleri eklemenize olanak tanır.\n",
        "ad=\"mehmet\"\n",
        "yas=20\n",
        "print(f\"{ad} adlı kullanıcı {yas} yaşındadır\")"
      ],
      "metadata": {
        "colab": {
          "base_uri": "https://localhost:8080/"
        },
        "id": "M_9Cit46XBcS",
        "outputId": "df56c3c4-cbf3-4d79-f4ca-e7b375db71a3"
      },
      "execution_count": null,
      "outputs": [
        {
          "output_type": "stream",
          "name": "stdout",
          "text": [
            "mehmet adlı kullanıcı 20 yaşındadır\n"
          ]
        }
      ]
    },
    {
      "cell_type": "code",
      "source": [
        "# end parametresi, yazdırma işleminden sonra ne ekleneceğini belirtir (varsayılan olarak \\n yani yeni satır).\n",
        "print(\"Bilişim\",end=\"-\")\n",
        "print(\"Teknolojileri\")"
      ],
      "metadata": {
        "colab": {
          "base_uri": "https://localhost:8080/"
        },
        "id": "Edd2Xi6GXQAA",
        "outputId": "ef447efe-3811-4b75-91ae-b7ac033ed2a0"
      },
      "execution_count": null,
      "outputs": [
        {
          "output_type": "stream",
          "name": "stdout",
          "text": [
            "Bilişim-Teknolojileri\n"
          ]
        }
      ]
    },
    {
      "cell_type": "code",
      "source": [
        "#sep parametresi, öğeler arasına hangi ayırıcının ekleneceğini belirtir (varsayılan olarak boşluk).\n",
        "print(\"22\",\"11\",\"1999\",sep=\"/\")"
      ],
      "metadata": {
        "colab": {
          "base_uri": "https://localhost:8080/"
        },
        "id": "UyXFrRkOXntV",
        "outputId": "f7413f86-fa3b-47de-a2de-64637bc33374"
      },
      "execution_count": null,
      "outputs": [
        {
          "output_type": "stream",
          "name": "stdout",
          "text": [
            "22/11/1999\n"
          ]
        }
      ]
    },
    {
      "cell_type": "markdown",
      "source": [
        "**1.2. Değişkenler**"
      ],
      "metadata": {
        "id": "QhwrzbykYldR"
      }
    },
    {
      "cell_type": "code",
      "source": [
        "#Python'da bir değişkene değer atamak için eşittir (=) işaretini kullanırız.\n",
        "x = 5\n",
        "isim = \"Ayşe\"\n",
        "#Burada x bir tam sayı (integer) değişkenidir ve isim bir metin (string) değişkenidir."
      ],
      "metadata": {
        "id": "HsVlONj4Yneh"
      },
      "execution_count": null,
      "outputs": []
    },
    {
      "cell_type": "markdown",
      "source": [
        "Değişken Adlandırma Kuralları\n",
        "\n",
        "Değişken adları harf veya alt çizgi (_) ile başlamalıdır.\n",
        "\n",
        "Sayılar değişken adının içinde kullanılabilir, ancak başında olamaz.\n",
        "\n",
        "Özel karakterler (@, $, %, vb.) ve boşluk kullanılamaz.\n",
        "\n",
        "Büyük/küçük harf duyarlıdır (age, Age ve AGE farklı değişkenlerdir).\n",
        "\n",
        "\n"
      ],
      "metadata": {
        "id": "VFShjJJUY5zZ"
      }
    },
    {
      "cell_type": "markdown",
      "source": [
        "**1.3. Veri Tipleri**\n",
        "\n",
        "Python'da değişkenler, atanmış olan veri tipine göre belirlenir ve Python, dinamik bir tiplemeye sahiptir (değişkenin tipini yazmanıza gerek yoktur, Python otomatik olarak anlar)."
      ],
      "metadata": {
        "id": "N9ycVdttZPLR"
      }
    },
    {
      "cell_type": "code",
      "source": [
        "#Tam Sayılar (Integers): Tam sayı değerlerini saklar.\n",
        "yas = 30"
      ],
      "metadata": {
        "id": "LIdQr29PZWEZ"
      },
      "execution_count": null,
      "outputs": []
    },
    {
      "cell_type": "code",
      "source": [
        "#Ondalık Sayılar (Floats): Ondalıklı sayıları saklar.\n",
        "boy = 1.75"
      ],
      "metadata": {
        "id": "FVuI8_WFZbTZ"
      },
      "execution_count": null,
      "outputs": []
    },
    {
      "cell_type": "code",
      "source": [
        "#Metinler (Strings): Karakter dizilerini saklar.\n",
        "ad = \"Mehmet\""
      ],
      "metadata": {
        "id": "KyEEkDK9ZhIo"
      },
      "execution_count": null,
      "outputs": []
    },
    {
      "cell_type": "code",
      "source": [
        "#Boole Değerler (Booleans): True veya False değerlerini saklar.\n",
        "ogrenci_mi = True"
      ],
      "metadata": {
        "id": "xZzKyfN8ZmZg"
      },
      "execution_count": null,
      "outputs": []
    },
    {
      "cell_type": "code",
      "source": [
        "#değişkenlerin değerlerini değişebiliriz\n",
        "yas=40"
      ],
      "metadata": {
        "id": "kQmy7qMyZskg"
      },
      "execution_count": null,
      "outputs": []
    },
    {
      "cell_type": "code",
      "source": [
        "#Çoklu Değişken atama\n",
        "a,b,c=5,3.2,\"merhaba\""
      ],
      "metadata": {
        "id": "dIZZ60NrZzn4"
      },
      "execution_count": null,
      "outputs": []
    },
    {
      "cell_type": "code",
      "source": [
        "#değişken türünü öğrenme\n",
        "print(type(yas))"
      ],
      "metadata": {
        "colab": {
          "base_uri": "https://localhost:8080/"
        },
        "id": "3isbg-Q7Z7nw",
        "outputId": "6fead9f3-5aa3-4151-85e6-acbf3ac7bf29"
      },
      "execution_count": null,
      "outputs": [
        {
          "output_type": "stream",
          "name": "stdout",
          "text": [
            "<class 'int'>\n"
          ]
        }
      ]
    },
    {
      "cell_type": "markdown",
      "source": [
        "**1.4. Operatörler**\n",
        "\n",
        "Python'daki operatörler, değişkenler ve değerler üzerinde çeşitli işlemler yapmanıza olanak tanır. Bu operatörler, matematiksel hesaplamalardan mantıksal karşılaştırmalara kadar geniş bir yelpazede kullanılır. İşte Python'daki temel operatör türleri ve bunların kullanımı hakkında detaylı bilgiler:"
      ],
      "metadata": {
        "id": "GnojPxy3aXMB"
      }
    },
    {
      "cell_type": "code",
      "source": [
        "#2.1.Aritmetik operatörler\n",
        "5+3  #toplama\n",
        "5-3  #çıkarma\n",
        "5*3  #çarpma\n",
        "6/2  #bölme\n",
        "6%2  #mod alma\n",
        "5//2 #tam sayı bölme\n",
        "5**2 #üs alma"
      ],
      "metadata": {
        "colab": {
          "base_uri": "https://localhost:8080/"
        },
        "id": "Bq2_gPY8aedA",
        "outputId": "abe6b52e-8846-4dd2-9245-b1268bb782c3"
      },
      "execution_count": null,
      "outputs": [
        {
          "output_type": "execute_result",
          "data": {
            "text/plain": [
              "25"
            ]
          },
          "metadata": {},
          "execution_count": 30
        }
      ]
    },
    {
      "cell_type": "code",
      "source": [
        "#2.2. Karşılaştırma Operatörleri\n",
        "5==5 # eşitlik\n",
        "5!=3 #eşit değil\n",
        "5>3  #büyüktür\n",
        "5<3  #küçüktür\n",
        "5>=3 #büyük eşit\n",
        "5<=3 #küçük eşit"
      ],
      "metadata": {
        "colab": {
          "base_uri": "https://localhost:8080/"
        },
        "id": "9vc1Tb6_bIyx",
        "outputId": "4a368abf-347c-4590-d187-9f97b3a32c8c"
      },
      "execution_count": null,
      "outputs": [
        {
          "output_type": "execute_result",
          "data": {
            "text/plain": [
              "False"
            ]
          },
          "metadata": {},
          "execution_count": 31
        }
      ]
    },
    {
      "cell_type": "code",
      "source": [
        "#2.3. Mantıksal Operatörler\n",
        "(5>3) and (5<10) # ve\n",
        "(5>3) or (5<10) # veya\n",
        "not(5>3) #tersi"
      ],
      "metadata": {
        "colab": {
          "base_uri": "https://localhost:8080/"
        },
        "id": "EcpJKFltbevQ",
        "outputId": "43bd4ba2-8177-4278-e4b4-ca9e9764d061"
      },
      "execution_count": null,
      "outputs": [
        {
          "output_type": "execute_result",
          "data": {
            "text/plain": [
              "False"
            ]
          },
          "metadata": {},
          "execution_count": 32
        }
      ]
    },
    {
      "cell_type": "code",
      "source": [
        "#2.4. Atama Operatörleri\n",
        "x=5\n",
        "x+=3 #x=x+3\n",
        "x-=2\n"
      ],
      "metadata": {
        "id": "bIaIu5mMb0B6"
      },
      "execution_count": null,
      "outputs": []
    },
    {
      "cell_type": "code",
      "source": [
        "#2.5. kimlik(Identity) Operatörleri\n",
        "#is, is not: İki değişkenin aynı nesneye (aynı bellek konumuna) referans olup olmadığını kontrol eder.\n",
        "a=[1,2,3]\n",
        "b=a\n",
        "a is b\n",
        "a is not b"
      ],
      "metadata": {
        "colab": {
          "base_uri": "https://localhost:8080/"
        },
        "id": "pNJJY1xCcFnI",
        "outputId": "c40b2591-7cb6-43a2-a074-fa01385e79e1"
      },
      "execution_count": null,
      "outputs": [
        {
          "output_type": "execute_result",
          "data": {
            "text/plain": [
              "False"
            ]
          },
          "metadata": {},
          "execution_count": 35
        }
      ]
    },
    {
      "cell_type": "code",
      "source": [
        "#2.6. Üyelik(Membership) Operatörleri\n",
        "#in, not in: Bir öğenin bir koleksiyon içinde (liste, demet, dize, vb.) bulunup bulunmadığını kontrol eder.\n",
        "'a' in 'elma' # elma kelimesinin içinde a var mı\n",
        "4 not in [1,2,3] # listede 4 yok mu"
      ],
      "metadata": {
        "colab": {
          "base_uri": "https://localhost:8080/"
        },
        "id": "jcib_MGVcbH4",
        "outputId": "0a32d766-ef2b-4876-c5d1-bffabd82bf58"
      },
      "execution_count": null,
      "outputs": [
        {
          "output_type": "execute_result",
          "data": {
            "text/plain": [
              "True"
            ]
          },
          "metadata": {},
          "execution_count": 37
        }
      ]
    },
    {
      "cell_type": "markdown",
      "source": [
        "# **Ders 2 : Kontrol Yapıları, Döngüler, Listeler**"
      ],
      "metadata": {
        "id": "YEEuBa5Q_WpM"
      }
    },
    {
      "cell_type": "markdown",
      "source": [
        "**1.Kontrol Yapıları**"
      ],
      "metadata": {
        "id": "oWPoESPTCWyc"
      }
    },
    {
      "cell_type": "code",
      "source": [
        "sayi=4\n",
        "\n",
        "if sayi>5:\n",
        "  print(\"Sayı 5 ten büyüktür\")\n",
        "else:\n",
        "  print(\"Sayı 5 ten küçüktür\")"
      ],
      "metadata": {
        "colab": {
          "base_uri": "https://localhost:8080/"
        },
        "id": "kq3JJGFk_pSS",
        "outputId": "5f19bbe2-991d-4dd4-af73-f070016f32c4"
      },
      "execution_count": null,
      "outputs": [
        {
          "output_type": "stream",
          "name": "stdout",
          "text": [
            "Sayı 5 ten küçüktür\n"
          ]
        }
      ]
    },
    {
      "cell_type": "code",
      "source": [
        "sayi2=5\n",
        "if sayi2>5:\n",
        "  print(\"Sayı 5 ten büyüktür\")\n",
        "elif sayi2<5:\n",
        "  print(\"Sayı 5 ten küçüktür\")\n",
        "else:\n",
        "  print(\"Sayı 5 e eşittir\")"
      ],
      "metadata": {
        "colab": {
          "base_uri": "https://localhost:8080/"
        },
        "id": "FKOhTkJxAeV2",
        "outputId": "46988894-e9ed-4924-99c4-649becb9cd92"
      },
      "execution_count": null,
      "outputs": [
        {
          "output_type": "stream",
          "name": "stdout",
          "text": [
            "Sayı 5 e eşittir\n"
          ]
        }
      ]
    },
    {
      "cell_type": "code",
      "source": [
        "kullanici=input(\"Kullanıcı adını giriniz\")\n",
        "parola=input(\"Parolayı giriniz\")\n",
        "\n",
        "if kullanici==\"admin\" and parola==\"1111\":\n",
        "  print(\"Hoşgeldin Admin\")\n",
        "else:\n",
        "  print(\"Kullanıcı adı veya şifre hatalı\")"
      ],
      "metadata": {
        "id": "KlEqadkBBJBZ"
      },
      "execution_count": null,
      "outputs": []
    },
    {
      "cell_type": "code",
      "source": [
        "x=40\n",
        "if x%4==0:\n",
        "  if x%5==0:\n",
        "    print(\"x hem 4 e hem de 5 e bölünüyor o zaman 20 nin katıdır\")\n",
        "  else:\n",
        "    print(\"x 5 e bölünmüyor\")\n",
        "else:\n",
        "  print(\"x 4 e bölünmüyor\")"
      ],
      "metadata": {
        "id": "PmUQkn32BzL8"
      },
      "execution_count": null,
      "outputs": []
    },
    {
      "cell_type": "markdown",
      "source": [
        "**2.Döngüler**"
      ],
      "metadata": {
        "id": "6NJ8iTvPDO8u"
      }
    },
    {
      "cell_type": "code",
      "source": [
        "for i in range(5):\n",
        "  print(i)"
      ],
      "metadata": {
        "id": "UR0o89qqDRQF"
      },
      "execution_count": null,
      "outputs": []
    },
    {
      "cell_type": "code",
      "source": [
        "meyveler=[\"apple\",\"banana\",\"orange\",\"lemon\"]\n",
        "\n",
        "for meyve in meyveler:\n",
        "  print(meyve)"
      ],
      "metadata": {
        "id": "qgO3YowQDf3y"
      },
      "execution_count": null,
      "outputs": []
    },
    {
      "cell_type": "markdown",
      "source": [
        "while döngüsü"
      ],
      "metadata": {
        "id": "eiBzZYbZD4sn"
      }
    },
    {
      "cell_type": "code",
      "source": [
        "sayi=0\n",
        "while sayi<5:\n",
        "  print(sayi)\n",
        "  sayi+=1"
      ],
      "metadata": {
        "id": "ofKATKOdD8NT"
      },
      "execution_count": null,
      "outputs": []
    },
    {
      "cell_type": "code",
      "source": [
        "girilen_sayi=None\n",
        "while girilen_sayi!=\"5\":\n",
        "  girilen_sayi=input(\"5 sayısını gir\")\n",
        "print(\"bu sefer 5 i girebildiniz\")"
      ],
      "metadata": {
        "id": "di-3uZkjEK6N"
      },
      "execution_count": null,
      "outputs": []
    },
    {
      "cell_type": "markdown",
      "source": [
        "3.Listeler"
      ],
      "metadata": {
        "id": "941NA91dFbYv"
      }
    },
    {
      "cell_type": "code",
      "source": [
        "dersler=[\"mat\",\"fizik\",\"kimya\",\"tarih\",\"resim\",\"müzik\",\"beden\",\"coğrafya\"]\n",
        "print(dersler)\n",
        "print(len(dersler))"
      ],
      "metadata": {
        "id": "ZuCm6-BiFePn"
      },
      "execution_count": null,
      "outputs": []
    },
    {
      "cell_type": "code",
      "source": [
        "dersler[0]=\"matematik\"\n",
        "print(dersler[0])"
      ],
      "metadata": {
        "id": "w6EtfMPWF3F9"
      },
      "execution_count": null,
      "outputs": []
    },
    {
      "cell_type": "code",
      "source": [
        "dersler[-2]=\"beden eğitimi\"\n",
        "print(dersler)"
      ],
      "metadata": {
        "id": "h23iumZ-GPxF"
      },
      "execution_count": null,
      "outputs": []
    },
    {
      "cell_type": "code",
      "source": [
        "numbers=[1,2,4,6,8,90,25,76,12,54,23]\n",
        "print(numbers[1:4])"
      ],
      "metadata": {
        "id": "kHJOtYw5GeQ2"
      },
      "execution_count": null,
      "outputs": []
    },
    {
      "cell_type": "code",
      "source": [
        "print(numbers[3:9:2])"
      ],
      "metadata": {
        "id": "L7c9OrmoG6V0"
      },
      "execution_count": null,
      "outputs": []
    },
    {
      "cell_type": "code",
      "source": [
        "dersler.append(\"ingilizce\")\n",
        "print(dersler)"
      ],
      "metadata": {
        "id": "YZ-yeYCYHNqQ"
      },
      "execution_count": null,
      "outputs": []
    },
    {
      "cell_type": "code",
      "source": [
        "dersler.insert(1,\"yazılım\")\n",
        "print(dersler)"
      ],
      "metadata": {
        "id": "ANPukVDWHZho"
      },
      "execution_count": null,
      "outputs": []
    },
    {
      "cell_type": "code",
      "source": [
        "dersler.remove(\"tarih\")\n",
        "print(dersler)"
      ],
      "metadata": {
        "id": "9GhE4ZSAHlYO"
      },
      "execution_count": null,
      "outputs": []
    },
    {
      "cell_type": "code",
      "source": [
        "for ders in dersler:\n",
        "  print(ders)"
      ],
      "metadata": {
        "id": "177uDkeGHtO1"
      },
      "execution_count": null,
      "outputs": []
    },
    {
      "cell_type": "markdown",
      "source": [
        "**4.List Comprehension**"
      ],
      "metadata": {
        "id": "m3F608rNIYT3"
      }
    },
    {
      "cell_type": "code",
      "source": [
        "sayilar=[]\n",
        "for i in range(10):\n",
        "  sayilar.append(i)\n",
        "print(sayilar)"
      ],
      "metadata": {
        "id": "dngcO_jKIcJc"
      },
      "execution_count": null,
      "outputs": []
    },
    {
      "cell_type": "code",
      "source": [
        "sayilar=[x**2 for x in range(10)]\n",
        "print(sayilar)"
      ],
      "metadata": {
        "id": "BUYdXBBTI8De"
      },
      "execution_count": null,
      "outputs": []
    },
    {
      "cell_type": "code",
      "source": [
        "borclar=[100000,1000,2340,1234,3000,1200,1100,3222,4000,10000,200000,100,300]\n",
        "enbuyukBorclar=[i for i in borclar if i>=10000]\n",
        "print(enbuyukBorclar)"
      ],
      "metadata": {
        "id": "Tm1nyRJGJSmG"
      },
      "execution_count": null,
      "outputs": []
    },
    {
      "cell_type": "code",
      "source": [
        "years=[1990,2000,1980,1972,1950,1999,2001,2005]\n",
        "ages=[2024-year for year in years]\n",
        "print(ages)"
      ],
      "metadata": {
        "id": "RBZwJqXQKEa5"
      },
      "execution_count": null,
      "outputs": []
    },
    {
      "cell_type": "code",
      "source": [
        "results=[i if i%5==0  else '5 in katı değil' for i in range(1,100)]\n",
        "print(results)"
      ],
      "metadata": {
        "id": "naIYg8iPKksg"
      },
      "execution_count": null,
      "outputs": []
    },
    {
      "cell_type": "code",
      "source": [
        "numbers=[(x,y,z) for x in range(3) for y in range(3) for z in range(3)]\n",
        "print(numbers)"
      ],
      "metadata": {
        "id": "sDJH39U4LJUT"
      },
      "execution_count": null,
      "outputs": []
    },
    {
      "cell_type": "code",
      "source": [
        "numbers=[]\n",
        "for x in range(3):\n",
        "  for y in range(3):\n",
        "    for z in range(3):\n",
        "      numbers.append(z)\n",
        "      print(x,y,z)"
      ],
      "metadata": {
        "id": "84mqFRqCLeR6"
      },
      "execution_count": null,
      "outputs": []
    },
    {
      "cell_type": "markdown",
      "source": [],
      "metadata": {
        "id": "8yyzHjNaQ-23"
      }
    },
    {
      "cell_type": "markdown",
      "source": [
        "**# Hafta 3 : Fonksiyonlar ve Map Filter Lambda Expression**"
      ],
      "metadata": {
        "id": "7P6hF7X2RDA3"
      }
    },
    {
      "cell_type": "code",
      "source": [
        "def selamla():\n",
        "  print(\"Merhaba Python\")"
      ],
      "metadata": {
        "id": "kK1m-xJaNK2N"
      },
      "execution_count": null,
      "outputs": []
    },
    {
      "cell_type": "code",
      "source": [
        "selamla()"
      ],
      "metadata": {
        "id": "xgkjG0DuN36V"
      },
      "execution_count": null,
      "outputs": []
    },
    {
      "cell_type": "code",
      "source": [
        "def selamla(isim):\n",
        "  print(f\"Merhaba {isim}\")"
      ],
      "metadata": {
        "id": "6KANFnIcOANn"
      },
      "execution_count": null,
      "outputs": []
    },
    {
      "cell_type": "code",
      "source": [
        "selamla(\"ayhan\")"
      ],
      "metadata": {
        "id": "FEjyvUE8OMKs"
      },
      "execution_count": null,
      "outputs": []
    },
    {
      "cell_type": "code",
      "source": [
        "def topla(x,y):\n",
        "  return x+y"
      ],
      "metadata": {
        "id": "znel2zwMOZTq"
      },
      "execution_count": null,
      "outputs": []
    },
    {
      "cell_type": "code",
      "source": [
        "sonuc=topla(6,4)\n",
        "print(\"Toplam=\",sonuc)"
      ],
      "metadata": {
        "id": "jylAH-JnOuvc"
      },
      "execution_count": null,
      "outputs": []
    },
    {
      "cell_type": "code",
      "source": [
        "def selamla(isim=\"Dünya\"):\n",
        "  print(f\"Merhaba {isim}\")\n",
        "selamla()\n",
        "selamla(\"akkayasoft\")"
      ],
      "metadata": {
        "id": "hgHB4iWsO6vi"
      },
      "execution_count": null,
      "outputs": []
    },
    {
      "cell_type": "markdown",
      "source": [
        "**lambda**"
      ],
      "metadata": {
        "id": "L_wJ56CsPUVv"
      }
    },
    {
      "cell_type": "code",
      "source": [
        "topla=lambda x,y:x+y\n",
        "print(topla(5,3))"
      ],
      "metadata": {
        "id": "dBG7tnIZPWo9"
      },
      "execution_count": null,
      "outputs": []
    },
    {
      "cell_type": "markdown",
      "source": [
        "**map**"
      ],
      "metadata": {
        "id": "URvdxz3iPyDB"
      }
    },
    {
      "cell_type": "code",
      "source": [
        "sayilar=[1,2,3,4,5]\n",
        "kareler=map(lambda x:x**2,sayilar)\n",
        "print(list(kareler))"
      ],
      "metadata": {
        "id": "x8YWf-kpP0m5"
      },
      "execution_count": null,
      "outputs": []
    },
    {
      "cell_type": "markdown",
      "source": [
        "**filter**"
      ],
      "metadata": {
        "id": "TFsj1KP8QUQD"
      }
    },
    {
      "cell_type": "code",
      "source": [
        "sayilar=[1,2,3,4,5,6]\n",
        "cift_sayilar=filter(lambda x:x%2==0,sayilar)\n",
        "print(list(cift_sayilar))"
      ],
      "metadata": {
        "id": "myDhoLG3QW_Y"
      },
      "execution_count": null,
      "outputs": []
    },
    {
      "cell_type": "markdown",
      "source": [
        "# Hafta 4 : Koleksiyonlar"
      ],
      "metadata": {
        "id": "skh5VyEZF4ou"
      }
    },
    {
      "cell_type": "markdown",
      "source": [
        "**Listeler**"
      ],
      "metadata": {
        "id": "61HvPDzGGQDV"
      }
    },
    {
      "cell_type": "code",
      "source": [
        "my_list=[1,\"Merhaba\",3.14,True]\n",
        "my_list.append(\"Python\")\n",
        "print(my_list)"
      ],
      "metadata": {
        "colab": {
          "base_uri": "https://localhost:8080/"
        },
        "id": "IrvmfdoZGSOZ",
        "outputId": "63dac9a5-e599-4ef6-e637-ea71bbb8f2b6"
      },
      "execution_count": null,
      "outputs": [
        {
          "output_type": "stream",
          "name": "stdout",
          "text": [
            "[1, 'Merhaba', 3.14, True, 'Python']\n"
          ]
        }
      ]
    },
    {
      "cell_type": "code",
      "source": [
        "my_list.remove(\"Merhaba\")\n",
        "print(my_list)"
      ],
      "metadata": {
        "colab": {
          "base_uri": "https://localhost:8080/"
        },
        "id": "AHN92vm-GpOC",
        "outputId": "3991c1aa-6af4-4106-8442-d41c31ed627c"
      },
      "execution_count": null,
      "outputs": [
        {
          "output_type": "stream",
          "name": "stdout",
          "text": [
            "[1, 3.14, True, 'Python']\n"
          ]
        }
      ]
    },
    {
      "cell_type": "code",
      "source": [
        "my_list[0]=100\n",
        "print(my_list)"
      ],
      "metadata": {
        "colab": {
          "base_uri": "https://localhost:8080/"
        },
        "id": "Ksv1X7x8Gz7b",
        "outputId": "3b30d876-e1f1-4b31-abcc-0dbca61c0c0a"
      },
      "execution_count": null,
      "outputs": [
        {
          "output_type": "stream",
          "name": "stdout",
          "text": [
            "[100, 3.14, True, 'Python']\n"
          ]
        }
      ]
    },
    {
      "cell_type": "markdown",
      "source": [
        "**Tuple**"
      ],
      "metadata": {
        "id": "XM2P9ByRG_mz"
      }
    },
    {
      "cell_type": "code",
      "source": [
        "my_tuple=(1,\"Hello\",3.14)\n",
        "# my_tuple[1]=\"Python\" hata verir\n",
        "print(my_tuple)"
      ],
      "metadata": {
        "colab": {
          "base_uri": "https://localhost:8080/"
        },
        "id": "5yVonuy7HCPX",
        "outputId": "f6b65f20-58e0-4ed7-d429-6e100e663baf"
      },
      "execution_count": null,
      "outputs": [
        {
          "output_type": "stream",
          "name": "stdout",
          "text": [
            "(1, 'Hello', 3.14)\n"
          ]
        }
      ]
    },
    {
      "cell_type": "markdown",
      "source": [
        "**Dictionary**"
      ],
      "metadata": {
        "id": "TMK9I0DMHpFh"
      }
    },
    {
      "cell_type": "code",
      "source": [
        "my_dict={\"name\":\"Ayhan\",\"age\":39,\"gender\":\"male\"}\n",
        "my_dict[\"boy\"]=1.87\n",
        "del my_dict[\"gender\"]\n",
        "print(my_dict)"
      ],
      "metadata": {
        "colab": {
          "base_uri": "https://localhost:8080/"
        },
        "id": "YZvhlMnZHroy",
        "outputId": "a697a43b-81e2-4d57-ba1f-a1fadffebbf8"
      },
      "execution_count": null,
      "outputs": [
        {
          "output_type": "stream",
          "name": "stdout",
          "text": [
            "{'name': 'Ayhan', 'age': 39, 'boy': 1.87}\n"
          ]
        }
      ]
    },
    {
      "cell_type": "markdown",
      "source": [
        "**Set**"
      ],
      "metadata": {
        "id": "X0GkKdHgItDW"
      }
    },
    {
      "cell_type": "code",
      "source": [
        "my_set={1,2,2,3,3,3,3,4,5,6,6,7,7,7}\n",
        "my_set.add(8)\n",
        "my_set.remove(2)\n",
        "print(my_set)"
      ],
      "metadata": {
        "colab": {
          "base_uri": "https://localhost:8080/"
        },
        "id": "Vph-rq1CIu6c",
        "outputId": "2d0eaf6a-6698-4b4b-f202-c3ca4dcd09f8"
      },
      "execution_count": null,
      "outputs": [
        {
          "output_type": "stream",
          "name": "stdout",
          "text": [
            "{1, 3, 4, 5, 6, 7, 8}\n"
          ]
        }
      ]
    },
    {
      "cell_type": "markdown",
      "source": [
        "# Hafta 5 : Nesne Tabanlı Programlama"
      ],
      "metadata": {
        "id": "g4XmGdTPJcq5"
      }
    },
    {
      "cell_type": "markdown",
      "source": [
        "Python Nesne Tabanlı Programlama (OOP), programlamayı nesnelerin oluşturulması ve kullanılması üzerine kurulu bir paradigmadır. OOP'nin temelinde, gerçek dünyadaki nesnelerin ve kavramların program içinde modellenmesi yatar. Bu yaklaşım, kodun yeniden kullanılabilirliğini, düzenini ve modülerliğini artırarak karmaşık yazılım projelerinin daha yönetilebilir hale gelmesini sağlar. Python'da OOP kullanımı, sınıflar (classes) ve nesneler (objects) üzerinden gerçekleşir.\n",
        "\n",
        "Temel OOP kavramları şunlardır:\n",
        "\n",
        "**Sınıf (Class):** Bir nesnenin özelliklerini (atributlarını) ve davranışlarını (metotlarını) tanımlayan bir şablondur. Sınıf, nesnelerin nasıl oluşturulacağının reçetesini verir.\n",
        "\n",
        "**Nesne (Object):** Sınıfın örneklenmesiyle (instantiation) oluşturulan varlıklardır. Her nesne, sınıfın özelliklerini ve davranışlarını taşır.\n",
        "\n",
        "**Özellikler (Attributes):** Nesnelerin sahip olduğu verilerdir. Sınıf tanımında belirlenir ve her nesne bu özelliklere değerlerle sahip olur.\n",
        "\n",
        "**Metotlar (Methods):** Nesnelerin gerçekleştirebileceği eylemlerdir. Sınıf içinde fonksiyon olarak tanımlanır ve nesnenin davranışını belirler.\n",
        "\n",
        "**Kalıtım (Inheritance):** Bir sınıfın, başka bir sınıfın özelliklerini ve davranışlarını miras almasıdır. Bu sayede kod tekrarından kaçınılır ve sınıflar arası ilişkiler kurulur.\n",
        "\n",
        "**Polimorfizm (Polymorphism):** Farklı sınıfların, aynı arayüzü veya metotları farklı şekillerde gerçekleştirebilmesidir. Bu sayede farklı nesneler, aynı metot adıyla farklı işlemler yapabilir.\n",
        "\n",
        "**Kapsülleme (Encapsulation):** Bir nesnenin veri ve metotlarını, dış dünyadan gizleyerek ve sadece belirli arayüzler üzerinden erişilebilir kılınarak, nesnenin iç yapısını ve uygulamanın geri kalanından soyutlamasıdır."
      ],
      "metadata": {
        "id": "XhKuNtUnJpHY"
      }
    },
    {
      "cell_type": "markdown",
      "source": [
        "**1. Sınıf ve Nesne Kavramları**"
      ],
      "metadata": {
        "id": "yUrLxCuqK8gv"
      }
    },
    {
      "cell_type": "markdown",
      "source": [
        "Python'da sınıflar, nesne yönelimli programlamanın temel yapı taşlarıdır ve yeni nesneler oluşturmak için kullanılan şablonlardır. Bir sınıf, nesnelerin sahip olacağı özellikleri (değişkenler) ve bu nesnelerin gerçekleştirebileceği işlevleri (metotlar) tanımlar. Python'da bir sınıf tanımlamak için class anahtar kelimesi kullanılır."
      ],
      "metadata": {
        "id": "lVt6ntxELEo_"
      }
    },
    {
      "cell_type": "code",
      "source": [
        "class Araba():\n",
        "\n",
        "  # Attributes(Özellikler)\n",
        "  def __init__(self,marka,model,yil):\n",
        "    self.marka=marka\n",
        "    self.model=model\n",
        "    self.yil=yil\n",
        "  #Davranışlar(metotlar)\n",
        "  def arac_bilgisi_goster(self):\n",
        "    return f\"Araba: {self.marka} {self.model}, Yıl:{self.yil}\"\n"
      ],
      "metadata": {
        "id": "Slt0NeJXTrKG"
      },
      "execution_count": null,
      "outputs": []
    },
    {
      "cell_type": "code",
      "source": [
        "arabam=Araba(\"Toyota\",\"Corolla\",2024)"
      ],
      "metadata": {
        "id": "t3BDjLNSUs8L"
      },
      "execution_count": null,
      "outputs": []
    },
    {
      "cell_type": "code",
      "source": [
        "print(arabam.arac_bilgisi_goster())"
      ],
      "metadata": {
        "colab": {
          "base_uri": "https://localhost:8080/"
        },
        "id": "6Mo5oROQU5sU",
        "outputId": "af3a5bfb-e31b-4721-8df3-ba0113d761b5"
      },
      "execution_count": null,
      "outputs": [
        {
          "output_type": "stream",
          "name": "stdout",
          "text": [
            "Araba: Toyota Corolla, Yıl:2024\n"
          ]
        }
      ]
    },
    {
      "cell_type": "code",
      "source": [
        "myCar=Araba(\"Renault\",\"Symbol\",2002)"
      ],
      "metadata": {
        "id": "wdHQISBgVnMs"
      },
      "execution_count": null,
      "outputs": []
    },
    {
      "cell_type": "code",
      "source": [
        "print(myCar.arac_bilgisi_goster())"
      ],
      "metadata": {
        "colab": {
          "base_uri": "https://localhost:8080/"
        },
        "id": "pWDXVAnxVvNK",
        "outputId": "6a606d7b-1dfa-4369-c1a7-3a53a5a3cea3"
      },
      "execution_count": null,
      "outputs": [
        {
          "output_type": "stream",
          "name": "stdout",
          "text": [
            "Araba: Renault Symbol, Yıl:2002\n"
          ]
        }
      ]
    },
    {
      "cell_type": "markdown",
      "source": [
        "**2.Kalıtım(Inheritance)**"
      ],
      "metadata": {
        "id": "oq2Uy5MvYbum"
      }
    },
    {
      "cell_type": "markdown",
      "source": [
        "class BaseClass():\n",
        "  Burası Ana sınıftır.\n",
        "\n",
        "class DerivedClass(BaseClass):\n",
        "  Burası ana sınıftan miras alan sınıftır."
      ],
      "metadata": {
        "id": "AbOLcgEqYr5O"
      }
    },
    {
      "cell_type": "code",
      "source": [
        "class Hayvan():\n",
        "\n",
        "  def __init__(self,ad):\n",
        "    self.ad=ad\n",
        "\n",
        "  def sesCikar(self):\n",
        "    print(\"Bütün Hayvanlae ses çıkarır\")\n",
        "\n",
        "  def beslenme(self):\n",
        "    print(\"Bütün hayvanlar kendine özgü beslenir\")\n",
        "\n",
        "  def solunum(self):\n",
        "    print(\"Bütün hayvanlar farklı şekillerde solunum yaparlar\")"
      ],
      "metadata": {
        "id": "O8w-HfEfY8mq"
      },
      "execution_count": null,
      "outputs": []
    },
    {
      "cell_type": "code",
      "source": [
        "class Kopek(Hayvan):\n",
        "\n",
        "  def __init__(self,ad):\n",
        "    self.ad=ad\n",
        "\n",
        "  def sesCikar(self):\n",
        "    print(f\"Havv diye ses çıkaran hayvan {self.ad}\")"
      ],
      "metadata": {
        "id": "eO1PK3LKZevH"
      },
      "execution_count": null,
      "outputs": []
    },
    {
      "cell_type": "code",
      "source": [
        "kopek1=Kopek(\"Karabaş\")"
      ],
      "metadata": {
        "id": "N2rPoZK8aRKf"
      },
      "execution_count": null,
      "outputs": []
    },
    {
      "cell_type": "code",
      "source": [
        "kopek1.sesCikar()"
      ],
      "metadata": {
        "colab": {
          "base_uri": "https://localhost:8080/"
        },
        "id": "BbJhCw-5aXZQ",
        "outputId": "7764f2a3-17cf-4ccf-d565-1c724d0895b8"
      },
      "execution_count": null,
      "outputs": [
        {
          "output_type": "stream",
          "name": "stdout",
          "text": [
            "Havv diye ses çıkaran hayvan Karabaş\n"
          ]
        }
      ]
    },
    {
      "cell_type": "code",
      "source": [
        "class Kedi(Hayvan):\n",
        "\n",
        "  def __init__(self,ad):\n",
        "    Hayvan.__init__\n",
        "    self.ad=ad\n",
        "\n",
        "  def solunum(self):\n",
        "    print(\"Kediler akciğer solunumu yaparlar\")"
      ],
      "metadata": {
        "id": "IHYRsckYa2Tf"
      },
      "execution_count": null,
      "outputs": []
    },
    {
      "cell_type": "code",
      "source": [
        "kedi1=Kedi(\"Van Kedisi\")"
      ],
      "metadata": {
        "id": "skmBie5ya_0m"
      },
      "execution_count": null,
      "outputs": []
    },
    {
      "cell_type": "code",
      "source": [
        "kedi1.solunum()"
      ],
      "metadata": {
        "colab": {
          "base_uri": "https://localhost:8080/"
        },
        "id": "ByyG7Y4ebMP6",
        "outputId": "2c662e75-718f-4894-8b75-6a973c6e707c"
      },
      "execution_count": null,
      "outputs": [
        {
          "output_type": "stream",
          "name": "stdout",
          "text": [
            "Kediler akciğer solunumu yaparlar\n"
          ]
        }
      ]
    },
    {
      "cell_type": "code",
      "source": [],
      "metadata": {
        "id": "0I1YaSFPbQHT"
      },
      "execution_count": null,
      "outputs": []
    }
  ]
}