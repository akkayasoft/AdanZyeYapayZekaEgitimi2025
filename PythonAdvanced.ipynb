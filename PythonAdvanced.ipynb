{
  "nbformat": 4,
  "nbformat_minor": 0,
  "metadata": {
    "colab": {
      "provenance": [],
      "authorship_tag": "ABX9TyNJ1vhWKc6BySQLV8QG5FGS",
      "include_colab_link": true
    },
    "kernelspec": {
      "name": "python3",
      "display_name": "Python 3"
    },
    "language_info": {
      "name": "python"
    }
  },
  "cells": [
    {
      "cell_type": "markdown",
      "metadata": {
        "id": "view-in-github",
        "colab_type": "text"
      },
      "source": [
        "<a href=\"https://colab.research.google.com/github/akkayasoft/AdanZyeYapayZekaEgitimi2025/blob/main/PythonAdvanced.ipynb\" target=\"_parent\"><img src=\"https://colab.research.google.com/assets/colab-badge.svg\" alt=\"Open In Colab\"/></a>"
      ]
    },
    {
      "cell_type": "markdown",
      "source": [
        "# **Python Advanced Eğitimi 2025**"
      ],
      "metadata": {
        "id": "v1X8dkXkwMCC"
      }
    },
    {
      "cell_type": "markdown",
      "source": [
        "### 1.Dosya İşlemleri"
      ],
      "metadata": {
        "id": "TnnVpqtyyDkD"
      }
    },
    {
      "cell_type": "code",
      "source": [
        "dosya=open(\"deneme.txt\",\"w\")\n",
        "print(\"Ben Python,Monty Python\",file=dosya)\n",
        "dosya.close()"
      ],
      "metadata": {
        "id": "xZ53QWYfwUNT"
      },
      "execution_count": null,
      "outputs": []
    },
    {
      "cell_type": "code",
      "source": [
        "import os\n",
        "os.getcwd() # dosyanın bulunduğu konumu verir."
      ],
      "metadata": {
        "colab": {
          "base_uri": "https://localhost:8080/",
          "height": 36
        },
        "id": "JqEpSU-NyZ5a",
        "outputId": "c15a7a71-f1dd-42ec-b17b-bf5c109911e0"
      },
      "execution_count": null,
      "outputs": [
        {
          "output_type": "execute_result",
          "data": {
            "text/plain": [
              "'/content'"
            ],
            "application/vnd.google.colaboratory.intrinsic+json": {
              "type": "string"
            }
          },
          "metadata": {},
          "execution_count": 2
        }
      ]
    },
    {
      "cell_type": "code",
      "source": [
        "# Dosyaya yazma işlemleri\n",
        "f=open(\"kisisel_bilgiler.txt\",\"w\")\n",
        "print(\"Ayhan akkaya\",file=f)\n",
        "print(\"Bilgisayar Mühendisi\",file=f)\n",
        "print(\"Yapay Zeka Uzmanı\",file=f)\n",
        "f.close()"
      ],
      "metadata": {
        "id": "j6hiHB1cyoib"
      },
      "execution_count": null,
      "outputs": []
    },
    {
      "cell_type": "code",
      "source": [
        "# Dosyadan okuma İşlemleri\n",
        "f=open(\"kisisel_bilgiler.txt\",\"r\")\n",
        "print(f.read())\n",
        "f.close()"
      ],
      "metadata": {
        "colab": {
          "base_uri": "https://localhost:8080/"
        },
        "id": "LbL3jwYW1HGz",
        "outputId": "65d0a179-c6b1-4481-94dd-c5f838b52a0e"
      },
      "execution_count": null,
      "outputs": [
        {
          "output_type": "stream",
          "name": "stdout",
          "text": [
            "Ayhan akkaya\n",
            "Bilgisayar Mühendisi\n",
            "Yapay Zeka Uzmanı\n",
            "\n"
          ]
        }
      ]
    },
    {
      "cell_type": "markdown",
      "source": [
        "### 2.Hata Yakalama İşlemleri"
      ],
      "metadata": {
        "id": "yzTKZyjb1dm7"
      }
    },
    {
      "cell_type": "code",
      "source": [
        "ilk_sayi=input(\"ilk sayı: \")\n",
        "ikinci_sayi=input(\"ikinci sayı: \")\n",
        "\n",
        "try:\n",
        "  sayi1=int(ilk_sayi)\n",
        "  sayi2=int(ikinci_sayi)\n",
        "  if sayi1==0:\n",
        "    raise Exception(\"Pay sıfır olmasın\")\n",
        "  print(sayi1,\"/\",sayi2,\"=\",sayi1/sayi2)\n",
        "except ValueError:\n",
        "  print(\"Lütfen sadece sayı giriniz.\")\n",
        "except ZeroDivisionError as SifirHatasi:\n",
        "  print(\"Bir sayı 0'a bölünemez.\")\n",
        "  print(SifirHatasi)\n",
        "\n",
        "finally:\n",
        "  print(\"Program bitti.\")"
      ],
      "metadata": {
        "id": "bhz1gCC71heT"
      },
      "execution_count": null,
      "outputs": []
    },
    {
      "cell_type": "markdown",
      "source": [],
      "metadata": {
        "id": "Y-xqZKBA26h7"
      }
    },
    {
      "cell_type": "markdown",
      "source": [
        "### 3.İleri Düzey Fonksiyonlar"
      ],
      "metadata": {
        "id": "Eq_U6E7D26xL"
      }
    },
    {
      "cell_type": "code",
      "source": [
        "def topla(a,b):\n",
        "  return a+b"
      ],
      "metadata": {
        "id": "ub_C7rE8Fp4l"
      },
      "execution_count": null,
      "outputs": []
    },
    {
      "cell_type": "code",
      "source": [
        "#lambda\n",
        "fonk=lambda param1,param2:param1+param2\n",
        "print(fonk(2,3))"
      ],
      "metadata": {
        "colab": {
          "base_uri": "https://localhost:8080/"
        },
        "id": "5clbxurr3BsU",
        "outputId": "aac0d401-54a0-4981-da8d-64bd2fdd3285"
      },
      "execution_count": null,
      "outputs": [
        {
          "output_type": "stream",
          "name": "stdout",
          "text": [
            "5\n"
          ]
        }
      ]
    },
    {
      "cell_type": "code",
      "source": [
        "cift=lambda sayi:sayi%2==0\n",
        "print(cift(3))"
      ],
      "metadata": {
        "colab": {
          "base_uri": "https://localhost:8080/"
        },
        "id": "JJc1NDfs3WMD",
        "outputId": "3f22cb82-42fb-4ab4-bebd-e964d1ab2e47"
      },
      "execution_count": null,
      "outputs": [
        {
          "output_type": "stream",
          "name": "stdout",
          "text": [
            "False\n"
          ]
        }
      ]
    },
    {
      "cell_type": "code",
      "source": [
        "# map ve lambda birlikte kullanımı\n",
        "liste=[1,2,3,4,5,6,7,8,9,10]\n",
        "print(list(map(lambda sayi:sayi*2,liste)))"
      ],
      "metadata": {
        "colab": {
          "base_uri": "https://localhost:8080/"
        },
        "id": "TTyio6tP3e_L",
        "outputId": "e9df5049-8474-447a-e679-6287e2b663ee"
      },
      "execution_count": null,
      "outputs": [
        {
          "output_type": "stream",
          "name": "stdout",
          "text": [
            "[2, 4, 6, 8, 10, 12, 14, 16, 18, 20]\n"
          ]
        }
      ]
    },
    {
      "cell_type": "code",
      "source": [
        "#lambda,map ve reduce kullanımı\n",
        "from functools import reduce\n",
        "liste=[1,2,3,4,5,6,7,8,9,10]\n",
        "print(reduce(lambda x,y:x+y,liste))"
      ],
      "metadata": {
        "colab": {
          "base_uri": "https://localhost:8080/"
        },
        "id": "bxlB73nE9sBF",
        "outputId": "ccd1bca1-9a57-4312-dd49-ecb4fece0867"
      },
      "execution_count": null,
      "outputs": [
        {
          "output_type": "stream",
          "name": "stdout",
          "text": [
            "55\n"
          ]
        }
      ]
    },
    {
      "cell_type": "code",
      "source": [
        "# recursive fonksiyonlar\n",
        "def faktoriyel(sayi):\n",
        "  if sayi==1:\n",
        "    return 1\n",
        "  else:\n",
        "    return sayi*faktoriyel(sayi-1)\n",
        "\n",
        "print(faktoriyel(5))"
      ],
      "metadata": {
        "colab": {
          "base_uri": "https://localhost:8080/"
        },
        "id": "U4zbLMmo3z-M",
        "outputId": "653ed530-c080-465a-d51a-535282e464b8"
      },
      "execution_count": null,
      "outputs": [
        {
          "output_type": "stream",
          "name": "stdout",
          "text": [
            "120\n"
          ]
        }
      ]
    },
    {
      "cell_type": "code",
      "source": [
        "# iç içe fonksiyonlar\n",
        "def dis_fonk():\n",
        "  print(\"dis fonksiyon çalıştı\")\n",
        "  def ic_fonk():\n",
        "    print(\"ic fonksiyon çalıştı\")\n",
        "  ic_fonk()\n",
        "\n",
        "dis_fonk()"
      ],
      "metadata": {
        "id": "aIuIjaPi45h7"
      },
      "execution_count": null,
      "outputs": []
    },
    {
      "cell_type": "markdown",
      "source": [
        "### 4.Generators ve Decorators\n",
        "\n",
        "Python'da Generator'lar (Üreteçler)\n",
        "Generator'lar, Python'da verileri talep üzerine, teker teker üretmek için kullanılan özel fonksiyonlardır. Normal fonksiyonlar tüm değerleri hesaplayıp bir seferde döndürürken, generator'lar değerleri gerektiğinde hesaplar ve birer birer döndürür. Bu özellik, bellek kullanımını optimize etmek ve büyük veri kümeleriyle çalışırken performansı artırmak için faydalıdır.\n",
        "\n",
        "Generator'ların Oluşturulması:\n",
        "Generator'lar, fonksiyon tanımında yield anahtar kelimesi kullanılarak oluşturulur. yield ifadesi, fonksiyonun çalışmasını duraklatır ve bir değeri döndürür. Fonksiyon bir sonraki değeri üretmesi istendiğinde, kaldığı yerden çalışmaya devam eder."
      ],
      "metadata": {
        "id": "F20waOL46CtL"
      }
    },
    {
      "cell_type": "code",
      "source": [
        "def kareleri_uret(n):\n",
        "  for i in range(n):\n",
        "    yield i * i\n",
        "\n",
        "kareler = kareleri_uret(5)\n",
        "print(next(kareler))\n",
        "print(next(kareler))\n",
        "print(next(kareler))\n",
        "print(next(kareler))\n",
        "print(next(kareler))"
      ],
      "metadata": {
        "colab": {
          "base_uri": "https://localhost:8080/"
        },
        "id": "uvs6meLZ6IUT",
        "outputId": "f5d1efb0-48ea-4eb9-b53f-c4b95613fa22"
      },
      "execution_count": null,
      "outputs": [
        {
          "output_type": "stream",
          "name": "stdout",
          "text": [
            "0\n",
            "1\n",
            "4\n",
            "9\n",
            "16\n"
          ]
        }
      ]
    },
    {
      "cell_type": "code",
      "source": [
        "#Generators (Üreteçler)\n",
        "def generator():\n",
        "  yield 1 # yield ne anlama geliyor\n",
        "  yield 2\n",
        "  yield 3\n",
        "\n",
        "for i in generator():\n",
        "  print(i)\n"
      ],
      "metadata": {
        "colab": {
          "base_uri": "https://localhost:8080/"
        },
        "id": "T0AbShHV5GU8",
        "outputId": "d49dd3f5-1ea2-4779-cd77-c71e2ae3ea77"
      },
      "execution_count": null,
      "outputs": [
        {
          "output_type": "stream",
          "name": "stdout",
          "text": [
            "1\n",
            "2\n",
            "3\n"
          ]
        }
      ]
    },
    {
      "cell_type": "markdown",
      "source": [
        "Python'da Decorator'lar (Dekoratörler)\n",
        "Decorator'lar, Python'da mevcut bir fonksiyonun davranışını değiştirmek için kullanılan güçlü ve esnek bir yapıdır. Fonksiyonun kodunu doğrudan değiştirmeden, ek işlevsellik eklemek veya mevcut işlevselliği değiştirmek için kullanılırlar. Decorator'lar, fonksiyonları \"sarmak\" ve onlara yeni özellikler kazandırmak için meta programlama yeteneklerini kullanır.\n",
        "\n",
        "Decorator'ların Temel Yapısı:\n",
        "Decorator'lar, temelde bir fonksiyonu alıp başka bir fonksiyon döndüren fonksiyonlardır. Bu sayede, orijinal fonksiyonun davranışı değiştirilebilir veya genişletilebilir. Decorator'lar, @ sembolü kullanılarak fonksiyon tanımının üzerine yerleştirilir."
      ],
      "metadata": {
        "id": "1YzmLPn97Pp9"
      }
    },
    {
      "cell_type": "code",
      "source": [
        "def benim_dekoratorum(fonksiyon):\n",
        "  def sarmalayici(*args,**kwargs):\n",
        "    print(\"Fonksiyon çalışmadan önce birşeyler yap\")\n",
        "    sonuc=fonksiyon(*args,**kwargs)\n",
        "    print(\"Fonksiyon çalıştıktan sonra birşeyler yap\")\n",
        "    return sonuc\n",
        "  return sarmalayici\n",
        "\n",
        "@benim_dekoratorum\n",
        "def benim_fonksiyonum():\n",
        "  print(\"Benim fonksiyonum çalışıyor\")\n",
        "\n",
        "benim_fonksiyonum()"
      ],
      "metadata": {
        "colab": {
          "base_uri": "https://localhost:8080/"
        },
        "id": "6rHNyHJt7RyU",
        "outputId": "2feded91-0b31-43b0-c080-43ce0c76de49"
      },
      "execution_count": null,
      "outputs": [
        {
          "output_type": "stream",
          "name": "stdout",
          "text": [
            "Fonksiyon çalışmadan önce birşeyler yap\n",
            "Benim fonksiyonum çalışıyor\n",
            "Fonksiyon çalıştıktan sonra birşeyler yap\n"
          ]
        }
      ]
    },
    {
      "cell_type": "code",
      "source": [
        "import time\n",
        "\n",
        "def zaman_olcer(fonksiyon):\n",
        "  def sarmalayici(*args,**kwargs):\n",
        "    start=time.time()\n",
        "    sonuc=fonksiyon(*args,**kwargs)\n",
        "    finish=time.time()\n",
        "    toplam_sure=finish-start\n",
        "    print(f\"{fonksiyon.__name__} fonksiyonu {toplam_sure} saniye sürdü.\")\n",
        "    return sonuc\n",
        "  return sarmalayici\n",
        "\n",
        "@zaman_olcer\n",
        "def uzun_islem():\n",
        "  time.sleep(2)\n",
        "\n",
        "print(uzun_islem())"
      ],
      "metadata": {
        "colab": {
          "base_uri": "https://localhost:8080/"
        },
        "id": "UETwXNK68ES-",
        "outputId": "030fc813-dca7-4fe3-8454-c5f924a699e6"
      },
      "execution_count": null,
      "outputs": [
        {
          "output_type": "stream",
          "name": "stdout",
          "text": [
            "uzun_islem fonksiyonu 2.0001895427703857 saniye sürdü.\n",
            "None\n"
          ]
        }
      ]
    }
  ]
}