{
  "nbformat": 4,
  "nbformat_minor": 0,
  "metadata": {
    "colab": {
      "provenance": [],
      "authorship_tag": "ABX9TyMuq+I92U8oJFso2Sln99IG",
      "include_colab_link": true
    },
    "kernelspec": {
      "name": "python3",
      "display_name": "Python 3"
    },
    "language_info": {
      "name": "python"
    }
  },
  "cells": [
    {
      "cell_type": "markdown",
      "metadata": {
        "id": "view-in-github",
        "colab_type": "text"
      },
      "source": [
        "<a href=\"https://colab.research.google.com/github/akkayasoft/AdanZyeYapayZekaEgitimi2025/blob/main/PythonOOP.ipynb\" target=\"_parent\"><img src=\"https://colab.research.google.com/assets/colab-badge.svg\" alt=\"Open In Colab\"/></a>"
      ]
    },
    {
      "cell_type": "markdown",
      "source": [
        "## **Python İleri Seviye Eğitimi**"
      ],
      "metadata": {
        "id": "s9qvxd9ga4_O"
      }
    },
    {
      "cell_type": "markdown",
      "source": [
        "Python Nesne Tabanlı Programlama (OOP - Object Oriented Programming), programlamayı nesnelerin oluşturulması ve kullanılması üzerine kurulu bir paradigmadır. OOP'nin temelinde, gerçek dünyadaki nesnelerin ve kavramların program içinde modellenmesi yatar. Bu yaklaşım, kodun yeniden kullanılabilirliğini, düzenini ve modülerliğini artırarak karmaşık yazılım projelerinin daha yönetilebilir hale gelmesini sağlar. Python'da OOP kullanımı, sınıflar (classes) ve nesneler (objects) üzerinden gerçekleşir.\n",
        "\n",
        "Temel OOP kavramları şunlardır:\n",
        "\n",
        "**Sınıf (Class):** Bir nesnenin özelliklerini (atributlarını) ve davranışlarını (metotlarını) tanımlayan bir şablondur. Sınıf, nesnelerin nasıl oluşturulacağının reçetesini verir.\n",
        "\n",
        "**Nesne (Object):** Sınıfın örneklenmesiyle (instantiation) oluşturulan varlıklardır. Her nesne, sınıfın özelliklerini ve davranışlarını taşır.\n",
        "\n",
        "**Özellikler (Attributes):** Nesnelerin sahip olduğu verilerdir. Sınıf tanımında belirlenir ve her nesne bu özelliklere değerlerle sahip olur.\n",
        "\n",
        "**Metotlar (Methods):** Nesnelerin gerçekleştirebileceği eylemlerdir. Sınıf içinde fonksiyon olarak tanımlanır ve nesnenin davranışını belirler.\n",
        "\n",
        "**Kalıtım (Inheritance):** Bir sınıfın, başka bir sınıfın özelliklerini ve davranışlarını miras almasıdır. Bu sayede kod tekrarından kaçınılır ve sınıflar arası ilişkiler kurulur.\n",
        "\n",
        "**Polimorfizm (Polymorphism):** Farklı sınıfların, aynı arayüzü veya metotları farklı şekillerde gerçekleştirebilmesidir. Bu sayede farklı nesneler, aynı metot adıyla farklı işlemler yapabilir.\n",
        "\n",
        "**Kapsülleme (Encapsulation):** Bir nesnenin veri ve metotlarını, dış dünyadan gizleyerek ve sadece belirli arayüzler üzerinden erişilebilir kılınarak, nesnenin iç yapısını ve uygulamanın geri kalanından soyutlamasıdır."
      ],
      "metadata": {
        "id": "t9huzkzUWb7H"
      }
    },
    {
      "cell_type": "markdown",
      "source": [
        "1. Sınıflar ve Nesneler"
      ],
      "metadata": {
        "id": "PStqAIvUbHlw"
      }
    },
    {
      "cell_type": "markdown",
      "source": [
        "Python'da sınıflar, nesne yönelimli programlamanın temel yapı taşlarıdır ve yeni nesneler oluşturmak için kullanılan şablonlardır. Bir sınıf, nesnelerin sahip olacağı özellikleri (değişkenler) ve bu nesnelerin gerçekleştirebileceği işlevleri (metotlar) tanımlar. Python'da bir sınıf tanımlamak için class anahtar kelimesi kullanılır.\n",
        "\n",
        "Python'da init Metodu\n",
        "\n",
        "Python'da init metodu, bir sınıfın yapıcı (constructor) metodudur. Bir sınıfın nesnesi oluşturulduğunda otomatik olarak çağrılır ve nesnenin başlangıç durumunu ayarlamak için kullanılır.\n",
        "\n",
        "init metodunun temel özellikleri:\n",
        "\n",
        "Nesne Oluşturulurken Çağrılır: Bir sınıfın nesnesi oluşturulduğunda, init metodu otomatik olarak çağrılır ve nesnenin başlangıç özelliklerini ayarlamak için kullanılır.\n",
        "\n",
        "self Parametresi: init metodu, ilk parametre olarak self alır. self, oluşturulan nesnenin kendisini temsil eder ve nesnenin özelliklerine erişmek için kullanılır.\n",
        "\n",
        "Özellikleri Başlatma: init metodu içinde, nesnenin özelliklerine başlangıç değerleri atanır. Bu, nesnenin oluşturulduğunda belirli bir durumda olmasını sağlar.\n",
        "\n",
        "Zorunlu Değildir: init metodu zorunlu değildir. Bir sınıfta init metodu tanımlanmazsa, Python varsayılan bir init metodu kullanır. Ancak, genellikle nesnenin özelliklerini başlatmak için init metodu tanımlamak faydalıdır."
      ],
      "metadata": {
        "id": "5oMB_DxNWxhB"
      }
    },
    {
      "cell_type": "code",
      "source": [
        "class Araba:\n",
        "  def __init__(self,marka,model,hiz=0):\n",
        "    self.marka=marka\n",
        "    self.model=model\n",
        "    self.hiz=hiz\n",
        "\n",
        "  def araba_bilgisi(self):\n",
        "    return f\"{self.marka} {self.model}\"\n",
        "\n",
        "  def hizlan(self,artan_hiz):\n",
        "    self.hiz+=artan_hiz\n",
        "    return self.hiz\n",
        "\n",
        "  def yavasla(self,azalan_hiz):\n",
        "    self.hiz-=azalan_hiz\n",
        "    return self.hiz"
      ],
      "metadata": {
        "id": "sakjgVClbOlu"
      },
      "execution_count": null,
      "outputs": []
    },
    {
      "cell_type": "code",
      "source": [
        "# araba sınıfından bir nesne oluşturalım\n",
        "araba1=Araba(\"Toyota\",\"Corolla\")\n",
        "print(araba1.araba_bilgisi())"
      ],
      "metadata": {
        "colab": {
          "base_uri": "https://localhost:8080/"
        },
        "id": "Y8pZN3fWbsuY",
        "outputId": "d4e3489d-564f-4543-8995-07933d8ee453"
      },
      "execution_count": null,
      "outputs": [
        {
          "output_type": "stream",
          "name": "stdout",
          "text": [
            "Toyota Corolla\n"
          ]
        }
      ]
    },
    {
      "cell_type": "code",
      "source": [
        "print(araba1.hizlan(30))\n",
        "print(araba1.yavasla(20))"
      ],
      "metadata": {
        "colab": {
          "base_uri": "https://localhost:8080/"
        },
        "id": "aIFPu4UvcMWP",
        "outputId": "4ca2cda8-12d0-4c39-b83f-fae96fc15706"
      },
      "execution_count": null,
      "outputs": [
        {
          "output_type": "stream",
          "name": "stdout",
          "text": [
            "60\n",
            "40\n"
          ]
        }
      ]
    },
    {
      "cell_type": "code",
      "source": [
        "class Personel:\n",
        "    \"\"\"\n",
        "    Personel sınıfı, bir personelin adını, soyadını, yaşını, maaşını ve pozisyonunu temsil eder.\n",
        "    \"\"\"\n",
        "\n",
        "    def __init__(self, ad, soyad, yas, maas, pozisyon):\n",
        "        \"\"\"\n",
        "        Personel nesnesinin özelliklerini başlatır.\n",
        "\n",
        "        Args:\n",
        "            ad (str): Personelin adı.\n",
        "            soyad (str): Personelin soyadı.\n",
        "            yas (int): Personelin yaşı.\n",
        "            maas (float): Personelin maaşı.\n",
        "            pozisyon (str): Personelin pozisyonu.\n",
        "        \"\"\"\n",
        "        self.ad = ad\n",
        "        self.soyad = soyad\n",
        "        self.yas = yas\n",
        "        self.maas = maas\n",
        "        self.pozisyon = pozisyon\n",
        "\n",
        "    def bilgileri_goster(self):\n",
        "        \"\"\"\n",
        "        Personelin bilgilerini ekrana yazdırır.\n",
        "        \"\"\"\n",
        "        print(f\"Ad: {self.ad}\")\n",
        "        print(f\"Soyad: {self.soyad}\")\n",
        "        print(f\"Yaş: {self.yas}\")\n",
        "        print(f\"Maaş: {self.maas}\")\n",
        "        print(f\"Pozisyon: {self.pozisyon}\")\n",
        "\n",
        "\n",
        "# Örnek kullanım\n",
        "personel1 = Personel(\"Ali\", \"Yılmaz\", 30, 5000, \"Yazılım Mühendisi\")\n",
        "personel1.bilgileri_goster()  # Personelin bilgilerini ekrana yazdırır\n",
        "\n",
        "personel2 = Personel(\"Ayşe\", \"Demir\", 25, 6000, \"Veri Bilimci\")\n",
        "personel2.bilgileri_goster() # Personelin bilgilerini ekrana yazdırır"
      ],
      "metadata": {
        "id": "90regmMHXMdv"
      },
      "execution_count": null,
      "outputs": []
    },
    {
      "cell_type": "markdown",
      "source": [
        "2.Python da Özel Fonksiyonlar\n",
        "\n",
        "Python'da özel fonksiyonlar, çift alt çizgi (dunder) ile başlayan ve biten fonksiyonlardır (örneğin, init, str, len). Bu fonksiyonlar, Python'ın nesnelerin belirli durumlarda nasıl davranacağını kontrol etmesini sağlar. Operatör aşırı yüklemesi, nesne temsili, nesne karşılaştırması gibi özel durumları ele alırlar.\n",
        "\n",
        "Özel Fonksiyonların Faydaları\n",
        "\n",
        "1.Operatör Aşırı Yüklemesi: Özel fonksiyonlar, operatörlerin (+, -, *, /, ==, !=, vb.) nesneler üzerinde nasıl çalışacağını özelleştirmenizi sağlar.\n",
        "\n",
        "2.Nesne Temsili: str ve repr gibi fonksiyonlar, nesnelerin nasıl yazdırılacağını ve temsil edileceğini kontrol eder.\n",
        "\n",
        "3.Nesne Karşılaştırması: eq, lt, gt gibi fonksiyonlar, nesnelerin nasıl karşılaştırılacağını belirler. Diğer Özel Durumlar: Özel fonksiyonlar, nesnelerin oluşturulması, silinmesi, uzunluğunun alınması, yineleme gibi birçok özel durumu ele alır.\n",
        "\n",
        "Bazı Yaygın Özel Fonksiyonlar\n",
        "\n",
        "Fonksiyon Açıklama\n",
        "\n",
        "init Nesne oluşturulduğunda çağrılır (yapıcı).\n",
        "\n",
        "str Nesnenin string temsilini döndürür (print() fonksiyonu ile kullanılır).\n",
        "\n",
        "repr Nesnenin resmi temsilini döndürür (repr() fonksiyonu ile kullanılır).\n",
        "\n",
        "len Nesnenin uzunluğunu döndürür (len() fonksiyonu ile kullanılır).\n",
        "\n",
        "add İki nesnenin toplanmasını tanımlar (+ operatörü ile kullanılır).\n",
        "\n",
        "sub İki nesnenin çıkarılmasını tanımlar (- operatörü ile kullanılır).\n",
        "\n",
        "eq İki nesnenin eşitliğini kontrol eder (== operatörü ile kullanılır).\n",
        "\n",
        "lt İki nesnenin küçüklüğünü kontrol eder (< operatörü ile kullanılır).\n",
        "\n",
        "gt İki nesnenin büyüklüğünü kontrol eder (> operatörü ile kullanılır)."
      ],
      "metadata": {
        "id": "DTraJwBsXYwO"
      }
    },
    {
      "cell_type": "code",
      "source": [
        "# Python'da Özel Metotlar (__methods__)\n",
        "\n",
        "# Özel metotlar (dunder methods), çift alt çizgiyle başlayan ve biten metotlar olup,\n",
        "# Python'ın nesnelerin nasıl davranacağını belirlediği özel durumları ele alırlar.\n",
        "# Bu metotlar, operatör aşırı yüklemesi, nesne temsili, ve diğer özel durumlar için kullanılır.\n",
        "\n",
        "class Kitap:\n",
        "    def __init__(self, baslik, yazar, sayfa_sayisi):\n",
        "        self.baslik = baslik\n",
        "        self.yazar = yazar\n",
        "        self.sayfa_sayisi = sayfa_sayisi\n",
        "\n",
        "    # __str__ metodu, nesnenin string temsilini döndürür.\n",
        "    # print() fonksiyonu veya str() fonksiyonu çağrıldığında kullanılır.\n",
        "    def __str__(self):\n",
        "        return f\"Başlık: {self.baslik}, Yazar: {self.yazar}, Sayfa Sayısı: {self.sayfa_sayisi}\"\n",
        "\n",
        "    # __repr__ metodu, nesnenin resmi (resmi) temsilini döndürür.\n",
        "    # repr() fonksiyonu veya etkileşimli bir yorumlayıcıda nesneyi doğrudan yazdırdığınızda kullanılır.\n",
        "    def __repr__(self):\n",
        "        return f\"Kitap('{self.baslik}', '{self.yazar}', {self.sayfa_sayisi})\"\n",
        "\n",
        "    # __len__ metodu, nesnenin uzunluğunu döndürür.\n",
        "    def __len__(self):\n",
        "        return self.sayfa_sayisi\n",
        "\n",
        "    # __add__ metodu, iki nesnenin toplanmasını tanımlar.\n",
        "    def __add__(self, other):\n",
        "      # İki kitabın sayfa sayılarını toplar.\n",
        "        return self.sayfa_sayisi + other.sayfa_sayisi\n",
        "\n",
        "    # __eq__ metodu, iki nesnenin eşit olup olmadığını kontrol eder.\n",
        "    def __eq__(self, other):\n",
        "        return self.baslik == other.baslik and self.yazar == other.yazar\n",
        "\n",
        "\n",
        "# Örnek kullanım\n",
        "kitap1 = Kitap(\"Suç ve Ceza\", \"Dostoyevski\", 600)\n",
        "kitap2 = Kitap(\"Sefiller\", \"Victor Hugo\", 1200)\n",
        "\n",
        "\n",
        "print(kitap1)  # __str__ metodu çağrılır\n",
        "print(repr(kitap1))  # __repr__ metodu çağrılır\n",
        "print(len(kitap1)) # __len__ metodu çağrılır\n",
        "print(kitap1 + kitap2)  # __add__ metodu çağrılır\n",
        "\n",
        "print(kitap1 == kitap2) # __eq__ metodu çağrılır\n",
        "\n",
        "kitap3 = Kitap(\"Suç ve Ceza\", \"Dostoyevski\", 500)\n",
        "print(kitap1 == kitap3) # __eq__ metodu çağrılır"
      ],
      "metadata": {
        "id": "WTJPps3zXoja"
      },
      "execution_count": null,
      "outputs": []
    },
    {
      "cell_type": "markdown",
      "source": [
        "3. Kalıtım - Inheritance\n",
        "Kalıtım, nesne yönelimli programlamanın (OOP) temel kavramlarından biridir ve bir sınıfın başka bir sınıftan özelliklerini ve davranışlarını miras almasını sağlar. Bu, kod tekrarını azaltır, kodun daha düzenli ve okunaklı olmasını sağlar ve daha karmaşık sistemler oluşturmayı kolaylaştırır.\n",
        "\n",
        "Temel Kavramlar\n",
        "\n",
        "Üst Sınıf (Base Class/Parent Class): Özelliklerini ve davranışlarını miras alınan sınıf. Alt Sınıf (Derived Class/Child Class): Üst sınıftan miras alan ve özelliklerini ve davranışlarını genişleten sınıf. Kalıtımın Faydaları\n",
        "\n",
        "Kod Tekrarını Azaltma: Ortak özellikleri ve davranışları üst sınıfta tanımlayarak, alt sınıflar bunları tekrar yazmak zorunda kalmaz. Kod Düzenini ve Okunabilirliğini Artırma: Kalıtım, kodun daha yapılandırılmış ve anlaşılır olmasını sağlar. Daha Karmaşık Sistemler Oluşturma: Kalıtım, karmaşık ilişkileri ve hiyerarşileri modellemek için güçlü bir araçtır."
      ],
      "metadata": {
        "id": "35jgB_YZc-DS"
      }
    },
    {
      "cell_type": "code",
      "source": [
        "class Araba:\n",
        "  def __init__(self,marka,model,hiz=0):\n",
        "    self.marka=marka\n",
        "    self.model=model\n",
        "    self.hiz=hiz\n",
        "\n",
        "  def araba_bilgisi(self):\n",
        "    return f\"{self.marka} {self.model}\"\n",
        "\n",
        "  def hizlan(self,artan_hiz):\n",
        "    self.hiz+=artan_hiz\n",
        "    return self.hiz\n",
        "\n",
        "  def yavasla(self,azalan_hiz):\n",
        "    self.hiz-=azalan_hiz\n",
        "    return self.hiz"
      ],
      "metadata": {
        "id": "kWHTxgz7YBNV"
      },
      "execution_count": null,
      "outputs": []
    },
    {
      "cell_type": "code",
      "source": [
        "class ElektrikliAraba(Araba):\n",
        "  def __init__(self,marka,model,batarya):\n",
        "    super().__init__(marka,model)\n",
        "    self.batarya=batarya\n",
        "\n",
        "  def batarya_bilgisi(self):\n",
        "    return f\"{self.batarya} kWh\"\n",
        "\n",
        "elektrikliAraba=ElektrikliAraba(\"Tesla\",\"Model S\",75)\n",
        "print(elektrikliAraba.araba_bilgisi()) # araba sınıfına ait araba_bilgisi metodu\n",
        "print(elektrikliAraba.batarya_bilgisi()) # elektrikliAraba sınıfına ait batarya_bilgisi metodu"
      ],
      "metadata": {
        "colab": {
          "base_uri": "https://localhost:8080/"
        },
        "id": "h--uub8qdASc",
        "outputId": "d4b3246f-2f1d-420e-d993-ae38221cc525"
      },
      "execution_count": null,
      "outputs": [
        {
          "output_type": "stream",
          "name": "stdout",
          "text": [
            "Tesla Model S\n",
            "75 kWh\n"
          ]
        }
      ]
    },
    {
      "cell_type": "code",
      "source": [
        "Kalıtım (Inheritance)\n",
        "\n",
        "# Kalıtım, bir sınıfın (alt sınıf veya türetilmiş sınıf) başka bir sınıftan (üst sınıf veya temel sınıf)\n",
        "# özelliklerini ve davranışlarını miras almasıdır. Bu, kod tekrarını azaltır ve kodun daha düzenli olmasını sağlar.\n",
        "\n",
        "# Üst sınıf (Temel sınıf)\n",
        "class Hayvan:\n",
        "    def __init__(self, isim, yas):\n",
        "        self.isim = isim\n",
        "        self.yas = yas\n",
        "\n",
        "    def konus(self):\n",
        "        print(\"Hayvan konuşuyor...\")\n",
        "\n",
        "# Alt sınıflar (Türetilmiş sınıflar) - Hayvan sınıfından miras alıyorlar\n",
        "class Kopek(Hayvan):  # Kopek sınıfı, Hayvan sınıfından miras alıyor\n",
        "    def __init__(self, isim, yas, cins):\n",
        "        # Hayvan sınıfının __init__ metodunu çağırıyoruz\n",
        "        super().__init__(isim, yas)  # super() fonksiyonu üst sınıfı temsil eder\n",
        "        self.cins = cins\n",
        "\n",
        "    def konus(self):  # konus metodu override ediliyor\n",
        "        print(\"Hav hav!\")\n",
        "\n",
        "class Kedi(Hayvan):  # Kedi sınıfı, Hayvan sınıfından miras alıyor\n",
        "    def __init__(self, isim, yas, renk):\n",
        "        super().__init__(isim, yas)\n",
        "        self.renk = renk\n",
        "\n",
        "    def konus(self):  # konus metodu override ediliyor\n",
        "        print(\"Miyav!\")\n",
        "\n",
        "\n",
        "# Örnek kullanım\n",
        "hayvan = Hayvan(\"Generic Hayvan\", 5)\n",
        "hayvan.konus()  # Çıktı: Hayvan konuşuyor...\n",
        "\n",
        "kopek = Kopek(\"Karabaş\", 3, \"Kangal\")\n",
        "kopek.konus()  # Çıktı: Hav hav!\n",
        "print(kopek.isim) # Çıktı: Karabaş (Hayvan sınıfındaki isim özelliğine erişim)\n",
        "\n",
        "kedi = Kedi(\"Minnoş\", 2, \"Siyah\")\n",
        "kedi.konus()  # Çıktı: Miyav!\n",
        "\n",
        "\n",
        "# Çoklu Kalıtım\n",
        "# Bir sınıf birden fazla sınıftan miras alabilir.\n",
        "\n",
        "class Ucabilen:\n",
        "  def uc(self):\n",
        "    print(\"Uçuyorum\")\n",
        "\n",
        "class Karga(Hayvan, Ucabilen): # Karga sınıfı hem Hayvan hem de Ucabilen sınıflarından miras alıyor\n",
        "  def __init__(self, isim, yas):\n",
        "    super().__init__(isim, yas)\n",
        "\n",
        "karga = Karga(\"Zenci\", 2)\n",
        "karga.konus()  # Hayvan sınıfından miras alınan konus metodu\n",
        "karga.uc()  # Ucabilen sınıfından miras alınan uc metodu"
      ],
      "metadata": {
        "id": "znQQuRgqYKwr"
      },
      "execution_count": null,
      "outputs": []
    },
    {
      "cell_type": "markdown",
      "source": [
        "5. Polymophizm"
      ],
      "metadata": {
        "id": "QyWAFWVlev8-"
      }
    },
    {
      "cell_type": "code",
      "source": [
        "class DizelAraba(Araba):\n",
        "  def __init__(self,marka,model,motor_hacmi):\n",
        "    super().__init__(marka,model)\n",
        "    self.motor_hacmi=motor_hacmi\n",
        "\n",
        "  def araba_bilgisi(self):\n",
        "    return f\"{self.marka} {self.model} {self.motor_hacmi}\"\n",
        "\n",
        "dizelAraba=DizelAraba(\"Toyota\",\"Yaris\",1.6)\n",
        "print(dizelAraba.araba_bilgisi())"
      ],
      "metadata": {
        "colab": {
          "base_uri": "https://localhost:8080/"
        },
        "id": "TSjdZPeddmtT",
        "outputId": "5fbe0c8b-8a1e-4fc3-cded-1ce2944c3b17"
      },
      "execution_count": null,
      "outputs": [
        {
          "output_type": "stream",
          "name": "stdout",
          "text": [
            "Toyota Yaris 1.6\n"
          ]
        }
      ]
    },
    {
      "cell_type": "code",
      "source": [
        "class Hayvan:\n",
        "    def __init__(self, isim):\n",
        "        self.isim = isim\n",
        "\n",
        "    def ses_cikar(self):\n",
        "        raise NotImplementedError(\"Alt sınıflar bu metodu uygulamalıdır\")\n",
        "\n",
        "\n",
        "class Kopek(Hayvan):\n",
        "    def ses_cikar(self):\n",
        "        return \"Hav hav!\"\n",
        "\n",
        "\n",
        "class Kedi(Hayvan):\n",
        "    def ses_cikar(self):\n",
        "        return \"Miyav!\"\n",
        "\n",
        "\n",
        "class Kus(Hayvan):\n",
        "    def ses_cikar(self):\n",
        "        return \"Cik cik!\"\n",
        "\n",
        "\n",
        "# Farklı hayvanları bir listede toplayalım\n",
        "hayvanlar = [Kopek(\"Karabaş\"), Kedi(\"Pamuk\"), Kus(\"Tweety\")]\n",
        "\n",
        "# Her hayvanın sesini çıkarmasını isteyelim\n",
        "for hayvan in hayvanlar:\n",
        "    print(hayvan.isim + \": \" + hayvan.ses_cikar())"
      ],
      "metadata": {
        "id": "IiN66enlIvhD"
      },
      "execution_count": null,
      "outputs": []
    },
    {
      "cell_type": "markdown",
      "source": [
        "Bu örnekte, Hayvan sınıfı bir arayüz görevi görür ve ses_cikar metodunu tanımlar. Kopek, Kedi ve Kus sınıfları, Hayvan sınıfından miras alır ve ses_cikar metodunu kendi özel seslerine göre uygular.\n",
        "\n",
        "hayvanlar listesinde farklı türde hayvanlar bulunur. Döngü içinde, her hayvanın ses_cikar metodu çağrıldığında, o hayvanın türüne göre doğru ses çıktısı üretilir.\n",
        "\n",
        "Polimorfizmin Faydaları:\n",
        "\n",
        "Kod Tekrarını Azaltır: Aynı arayüzü paylaşan farklı sınıflar için aynı kodu tekrar yazmak gerekmez.\n",
        "Esneklik Sağlar: Program, farklı veri tiplerindeki nesnelerle çalışabilir ve bunlara göre davranışını değiştirebilir.\n",
        "Bakımı Kolaylaştırır: Kod daha düzenli ve anlaşılır hale gelir, bu da bakımını kolaylaştırır.\n",
        "Sonuç:\n",
        "\n",
        "Polimorfizm, Python'da güçlü bir araçtır ve kodun daha esnek, okunaklı ve bakımı kolay olmasını sağlar. Farklı veri tiplerindeki nesnelerle çalışırken, polimorfizm sayesinde kodunuz daha genel ve yeniden kullanılabilir hale gelir."
      ],
      "metadata": {
        "id": "7-ljjYh0Jv8V"
      }
    },
    {
      "cell_type": "code",
      "source": [
        "import math\n",
        "\n",
        "class Sekil:\n",
        "    def alan_hesapla(self):\n",
        "        raise NotImplementedError(\"Alt sınıflar bu metodu uygulamalıdır\")\n",
        "\n",
        "class Kare(Sekil):\n",
        "    def __init__(self, kenar):\n",
        "        self.kenar = kenar\n",
        "\n",
        "    def alan_hesapla(self):\n",
        "        return self.kenar * self.kenar\n",
        "\n",
        "class Daire(Sekil):\n",
        "    def __init__(self, yaricap):\n",
        "        self.yaricap = yaricap\n",
        "\n",
        "    def alan_hesapla(self):\n",
        "        return math.pi * self.yaricap * self.yaricap\n",
        "\n",
        "class Ucgen(Sekil):\n",
        "    def __init__(self, taban, yukseklik):\n",
        "        self.taban = taban\n",
        "        self.yukseklik = yukseklik\n",
        "\n",
        "    def alan_hesapla(self):\n",
        "        return (self.taban * self.yukseklik) / 2\n",
        "\n",
        "# Şekilleri bir listede toplayalım\n",
        "sekiller = [Kare(5), Daire(3), Ucgen(4, 6)]\n",
        "\n",
        "# Her şeklin alanını hesaplayalım\n",
        "for sekil in sekiller:\n",
        "    print(type(sekil).__name__ + \" alanı:\", sekil.alan_hesapla())"
      ],
      "metadata": {
        "id": "cmbXD1sPKABy"
      },
      "execution_count": null,
      "outputs": []
    },
    {
      "cell_type": "markdown",
      "source": [
        "6.Kapsülleme\n",
        "\n",
        "Python'da Kapsülleme\n",
        "Kapsülleme, nesne yönelimli programlamanın (OOP) temel kavramlarından biridir. Bir nesnenin verilerini ve metotlarını dış dünyadan gizlemeyi ve sadece belirli arayüzler üzerinden erişilebilir kılmayı amaçlar. Bu, nesnenin iç yapısının ve uygulamasının geri kalanından soyutlanmasını sağlar.\n",
        "\n",
        "Kapsüllemenin Faydaları\n",
        "Veri gizleme: Kapsülleme, bir nesnenin verilerinin doğrudan erişilmesini ve değiştirilmesini önleyerek, verilerin bütünlüğünü ve güvenliğini korur.\n",
        "Kodun yeniden kullanılabilirliğini artırma: Kapsülleme, nesnelerin iç yapısını değiştirmeden, nesnelerin nasıl kullanılacağını belirleyen arayüzleri sabit tutarak, kodun yeniden kullanılabilirliğini artırır.\n",
        "Kodun karmaşıklığını azaltma: Kapsülleme, nesnelerin iç yapısını gizleyerek, kodun daha az karmaşık ve daha anlaşılır olmasını sağlar.\n",
        "Kodun bakımını kolaylaştırma: Kapsülleme, nesnelerin iç yapısını değiştirmeden, nesnelerin davranışlarını değiştirmeyi kolaylaştırarak, kodun bakımını kolaylaştırır.\n",
        "Python'da Kapsülleme Nasıl Yapılır?\n",
        "Python'da kapsülleme, özel değişkenler ve metotlar kullanılarak yapılır. Özel değişkenler ve metotlar, adlarının önüne çift alt çizgi (__) konularak tanımlanır. Örneğin:"
      ],
      "metadata": {
        "id": "QKKfs1OZfrhR"
      }
    },
    {
      "cell_type": "code",
      "source": [
        "class Araba:\n",
        "  def __init__(self,marka,model,hiz=0):\n",
        "    self.__marka=marka\n",
        "    self.__model=model\n",
        "    self.__hiz=hiz\n",
        "\n",
        "  def hizlan(self,artan_hiz):\n",
        "    self.__hiz+=artan_hiz\n",
        "    return self.__hiz\n",
        "\n",
        "  def yavasla(self,azalan_hiz):\n",
        "    self.__hiz-=azalan_hiz\n",
        "    return self.__hiz"
      ],
      "metadata": {
        "id": "JGxSIEbtftst"
      },
      "execution_count": null,
      "outputs": []
    },
    {
      "cell_type": "markdown",
      "source": [
        "Bu örnekte, __marka, __model ve __hiz değişkenleri özel değişkenlerdir ve doğrudan erişilemezler. hizlan ve yavasla metotları ise genel metotlardır ve bu özel değişkenlere erişebilir ve değiştirebilirler.\n",
        "\n",
        "Kapsülleme Örneği\n",
        "Yukarıdaki Araba sınıfını kullanarak bir örnek verelim:"
      ],
      "metadata": {
        "id": "y9K2d45SLFrQ"
      }
    },
    {
      "cell_type": "code",
      "source": [
        "araba1 = Araba(\"Toyota\", \"Corolla\")\n",
        "print(araba1.hizlan(30))  # Çıktı: 30\n",
        "print(araba1.yavasla(20)) # Çıktı: 10\n",
        "# print(araba1.__hiz)  # AttributeError: 'Araba' object has no attribute '__hiz'"
      ],
      "metadata": {
        "colab": {
          "base_uri": "https://localhost:8080/"
        },
        "id": "ZByjnRA0LI30",
        "outputId": "b661e063-6be2-461f-8cbb-ac6943c90d06"
      },
      "execution_count": null,
      "outputs": [
        {
          "output_type": "stream",
          "name": "stdout",
          "text": [
            "30\n",
            "10\n"
          ]
        }
      ]
    },
    {
      "cell_type": "markdown",
      "source": [
        "Bu örnekte, araba1 nesnesi oluşturulduktan sonra, hizlan ve yavasla metotları kullanılarak nesnenin hızı değiştirilebilir. Ancak, __hiz değişkenine doğrudan erişilemez ve değiştirilemez.\n",
        "\n",
        "Sonuç\n",
        "Kapsülleme, nesne yönelimli programlamanın önemli bir kavramıdır ve Python'da özel değişkenler ve metotlar kullanılarak uygulanabilir. Kapsülleme, verilerin gizlenmesini, kodun yeniden kullanılabilirliğini artırmayı, kodun karmaşıklığını azaltmayı ve kodun bakımını kolaylaştırmayı sağlar."
      ],
      "metadata": {
        "id": "pJnfWbJULVyA"
      }
    },
    {
      "cell_type": "markdown",
      "source": [
        "7. Soyut Sınıflar\n",
        "\n",
        "Python'da soyut sınıflar mevcuttur ve abc modülü kullanılarak oluşturulurlar.\n",
        "\n",
        "Soyut Sınıflar Nedir?\n",
        "\n",
        "Soyut sınıflar, doğrudan örneklendirilemeyen, yani nesneleri oluşturulamayan sınıflardır. Soyut sınıflar, alt sınıflar tarafından miras alınmak ve alt sınıflar tarafından uygulanacak ortak bir arayüz (metotlar) tanımlamak için kullanılırlar.\n",
        "\n",
        "Soyut Sınıflar Nasıl Oluşturulur?\n",
        "\n",
        "Python'da soyut sınıflar, abc modülündeki ABC (Abstract Base Class) sınıfından miras alınarak ve abstractmethod dekoratörü kullanılarak oluşturulur."
      ],
      "metadata": {
        "id": "5RA5loehKMi2"
      }
    },
    {
      "cell_type": "code",
      "source": [
        "from abc import ABC, abstractmethod\n",
        "\n",
        "class Hayvan(ABC):\n",
        "    @abstractmethod\n",
        "    def ses_cikar(self):\n",
        "        pass\n",
        "\n",
        "class Kopek(Hayvan):\n",
        "    def ses_cikar(self):\n",
        "        return \"Hav hav!\"\n",
        "\n",
        "class Kedi(Hayvan):\n",
        "    def ses_cikar(self):\n",
        "        return \"Miyav!\"\n",
        "\n",
        "# Hayvan sınıfı soyut olduğu için doğrudan örneklendirilemez\n",
        "# hayvan = Hayvan()  # TypeError: Can't instantiate abstract class Hayvan with abstract methods ses_cikar\n",
        "\n",
        "# Alt sınıflar örneklendirilebilir\n",
        "kopek = Kopek()\n",
        "kedi = Kedi()\n",
        "\n",
        "print(kopek.ses_cikar())  # Çıktı: Hav hav!\n",
        "print(kedi.ses_cikar())  # Çıktı: Miyav!"
      ],
      "metadata": {
        "id": "TdzIl5UuKMJJ"
      },
      "execution_count": null,
      "outputs": []
    },
    {
      "cell_type": "markdown",
      "source": [
        "Açıklama:\n",
        "\n",
        "Hayvan sınıfı, ABC sınıfından miras alınarak soyut bir sınıf olarak tanımlanır.\n",
        "ses_cikar metodu, abstractmethod dekoratörü ile soyut bir metot olarak işaretlenir.\n",
        "Kopek ve Kedi sınıfları, Hayvan sınıfından miras alır ve ses_cikar metodunu uygular.\n",
        "Hayvan sınıfı soyut olduğu için doğrudan örneklendirilemez.\n",
        "Kopek ve Kedi sınıfları somut sınıflar olduğu için örneklendirilebilir.\n",
        "Soyut Sınıfların Faydaları:\n",
        "\n",
        "Alt sınıfların ortak bir arayüze sahip olmasını sağlar.\n",
        "Alt sınıfların belirli metotları uygulamasını zorunlu kılar.\n",
        "Kodun daha düzenli ve okunabilir olmasını sağlar."
      ],
      "metadata": {
        "id": "4nQOuCijKeLJ"
      }
    }
  ]
}